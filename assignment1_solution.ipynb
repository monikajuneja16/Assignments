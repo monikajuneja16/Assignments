{
 "cells": [
  {
   "cell_type": "markdown",
   "metadata": {},
   "source": [
    "# Assignment 1"
   ]
  },
  {
   "cell_type": "code",
   "execution_count": 1,
   "metadata": {},
   "outputs": [],
   "source": [
    "import pandas as pd\n",
    "import numpy as np\n",
    "import matplotlib.pyplot as plt\n",
    "import seaborn as sns\n",
    "from sklearn.preprocessing import OneHotEncoder,LabelEncoder\n",
    "from sklearn.model_selection import train_test_split\n",
    "from sklearn.metrics import mean_squared_error, r2_score\n",
    "from sklearn.model_selection import KFold"
   ]
  },
  {
   "cell_type": "code",
   "execution_count": 2,
   "metadata": {},
   "outputs": [],
   "source": [
    "df = pd.read_csv('assignment1.csv')"
   ]
  },
  {
   "cell_type": "code",
   "execution_count": 3,
   "metadata": {},
   "outputs": [
    {
     "data": {
      "text/html": [
       "<div>\n",
       "<style scoped>\n",
       "    .dataframe tbody tr th:only-of-type {\n",
       "        vertical-align: middle;\n",
       "    }\n",
       "\n",
       "    .dataframe tbody tr th {\n",
       "        vertical-align: top;\n",
       "    }\n",
       "\n",
       "    .dataframe thead th {\n",
       "        text-align: right;\n",
       "    }\n",
       "</style>\n",
       "<table border=\"1\" class=\"dataframe\">\n",
       "  <thead>\n",
       "    <tr style=\"text-align: right;\">\n",
       "      <th></th>\n",
       "      <th>Date</th>\n",
       "      <th>product</th>\n",
       "      <th>phase</th>\n",
       "      <th>campaign_platform</th>\n",
       "      <th>campaign_type</th>\n",
       "      <th>communication_medium</th>\n",
       "      <th>subchannel</th>\n",
       "      <th>audience_type</th>\n",
       "      <th>creative_type</th>\n",
       "      <th>creative_name</th>\n",
       "      <th>device</th>\n",
       "      <th>age</th>\n",
       "      <th>spends</th>\n",
       "      <th>impressions</th>\n",
       "      <th>clicks</th>\n",
       "      <th>link_clicks</th>\n",
       "    </tr>\n",
       "  </thead>\n",
       "  <tbody>\n",
       "    <tr>\n",
       "      <td>0</td>\n",
       "      <td>2019-10-16</td>\n",
       "      <td>Product 1</td>\n",
       "      <td>Performance</td>\n",
       "      <td>Google Ads</td>\n",
       "      <td>Search</td>\n",
       "      <td>Search Keywords</td>\n",
       "      <td>Brand</td>\n",
       "      <td>'-</td>\n",
       "      <td>'-</td>\n",
       "      <td>'-</td>\n",
       "      <td>Desktop</td>\n",
       "      <td>18-24</td>\n",
       "      <td>0.00</td>\n",
       "      <td>2</td>\n",
       "      <td>0</td>\n",
       "      <td>0.0</td>\n",
       "    </tr>\n",
       "    <tr>\n",
       "      <td>1</td>\n",
       "      <td>2019-10-16</td>\n",
       "      <td>Product 1</td>\n",
       "      <td>Performance</td>\n",
       "      <td>Google Ads</td>\n",
       "      <td>Search</td>\n",
       "      <td>Search Keywords</td>\n",
       "      <td>Brand</td>\n",
       "      <td>'-</td>\n",
       "      <td>'-</td>\n",
       "      <td>'-</td>\n",
       "      <td>Desktop</td>\n",
       "      <td>25-34</td>\n",
       "      <td>0.00</td>\n",
       "      <td>5</td>\n",
       "      <td>0</td>\n",
       "      <td>0.0</td>\n",
       "    </tr>\n",
       "    <tr>\n",
       "      <td>2</td>\n",
       "      <td>2019-10-16</td>\n",
       "      <td>Product 1</td>\n",
       "      <td>Performance</td>\n",
       "      <td>Google Ads</td>\n",
       "      <td>Search</td>\n",
       "      <td>Search Keywords</td>\n",
       "      <td>Brand</td>\n",
       "      <td>'-</td>\n",
       "      <td>'-</td>\n",
       "      <td>'-</td>\n",
       "      <td>Desktop</td>\n",
       "      <td>35-44</td>\n",
       "      <td>0.00</td>\n",
       "      <td>1</td>\n",
       "      <td>0</td>\n",
       "      <td>0.0</td>\n",
       "    </tr>\n",
       "    <tr>\n",
       "      <td>3</td>\n",
       "      <td>2019-10-16</td>\n",
       "      <td>Product 1</td>\n",
       "      <td>Performance</td>\n",
       "      <td>Google Ads</td>\n",
       "      <td>Search</td>\n",
       "      <td>Search Keywords</td>\n",
       "      <td>Brand</td>\n",
       "      <td>'-</td>\n",
       "      <td>'-</td>\n",
       "      <td>'-</td>\n",
       "      <td>Desktop</td>\n",
       "      <td>Undetermined</td>\n",
       "      <td>14.63</td>\n",
       "      <td>5</td>\n",
       "      <td>3</td>\n",
       "      <td>0.0</td>\n",
       "    </tr>\n",
       "    <tr>\n",
       "      <td>4</td>\n",
       "      <td>2019-10-18</td>\n",
       "      <td>Product 1</td>\n",
       "      <td>Performance</td>\n",
       "      <td>Google Ads</td>\n",
       "      <td>Search</td>\n",
       "      <td>Search Keywords</td>\n",
       "      <td>Brand</td>\n",
       "      <td>'-</td>\n",
       "      <td>'-</td>\n",
       "      <td>'-</td>\n",
       "      <td>Desktop</td>\n",
       "      <td>18-24</td>\n",
       "      <td>53.31</td>\n",
       "      <td>10</td>\n",
       "      <td>2</td>\n",
       "      <td>0.0</td>\n",
       "    </tr>\n",
       "  </tbody>\n",
       "</table>\n",
       "</div>"
      ],
      "text/plain": [
       "         Date    product        phase campaign_platform campaign_type  \\\n",
       "0  2019-10-16  Product 1  Performance        Google Ads        Search   \n",
       "1  2019-10-16  Product 1  Performance        Google Ads        Search   \n",
       "2  2019-10-16  Product 1  Performance        Google Ads        Search   \n",
       "3  2019-10-16  Product 1  Performance        Google Ads        Search   \n",
       "4  2019-10-18  Product 1  Performance        Google Ads        Search   \n",
       "\n",
       "  communication_medium subchannel audience_type creative_type creative_name  \\\n",
       "0      Search Keywords      Brand            '-            '-            '-   \n",
       "1      Search Keywords      Brand            '-            '-            '-   \n",
       "2      Search Keywords      Brand            '-            '-            '-   \n",
       "3      Search Keywords      Brand            '-            '-            '-   \n",
       "4      Search Keywords      Brand            '-            '-            '-   \n",
       "\n",
       "    device           age  spends  impressions  clicks  link_clicks  \n",
       "0  Desktop         18-24    0.00            2       0          0.0  \n",
       "1  Desktop         25-34    0.00            5       0          0.0  \n",
       "2  Desktop         35-44    0.00            1       0          0.0  \n",
       "3  Desktop  Undetermined   14.63            5       3          0.0  \n",
       "4  Desktop         18-24   53.31           10       2          0.0  "
      ]
     },
     "execution_count": 3,
     "metadata": {},
     "output_type": "execute_result"
    }
   ],
   "source": [
    "df.head()"
   ]
  },
  {
   "cell_type": "code",
   "execution_count": 4,
   "metadata": {},
   "outputs": [
    {
     "data": {
      "text/plain": [
       "(16834, 16)"
      ]
     },
     "execution_count": 4,
     "metadata": {},
     "output_type": "execute_result"
    }
   ],
   "source": [
    "df.shape"
   ]
  },
  {
   "cell_type": "code",
   "execution_count": 5,
   "metadata": {},
   "outputs": [
    {
     "data": {
      "text/plain": [
       "Date                     object\n",
       "product                  object\n",
       "phase                    object\n",
       "campaign_platform        object\n",
       "campaign_type            object\n",
       "communication_medium     object\n",
       "subchannel               object\n",
       "audience_type            object\n",
       "creative_type            object\n",
       "creative_name            object\n",
       "device                   object\n",
       "age                      object\n",
       "spends                  float64\n",
       "impressions               int64\n",
       "clicks                    int64\n",
       "link_clicks             float64\n",
       "dtype: object"
      ]
     },
     "execution_count": 5,
     "metadata": {},
     "output_type": "execute_result"
    }
   ],
   "source": [
    "df.dtypes"
   ]
  },
  {
   "cell_type": "markdown",
   "metadata": {},
   "source": [
    "## Data Cleaning"
   ]
  },
  {
   "cell_type": "code",
   "execution_count": 6,
   "metadata": {},
   "outputs": [
    {
     "data": {
      "text/plain": [
       "Date                      0\n",
       "product                   0\n",
       "phase                     0\n",
       "campaign_platform         0\n",
       "campaign_type             0\n",
       "communication_medium      0\n",
       "subchannel                0\n",
       "audience_type             0\n",
       "creative_type             0\n",
       "creative_name             0\n",
       "device                    0\n",
       "age                       0\n",
       "spends                    0\n",
       "impressions               0\n",
       "clicks                    0\n",
       "link_clicks             546\n",
       "dtype: int64"
      ]
     },
     "execution_count": 6,
     "metadata": {},
     "output_type": "execute_result"
    }
   ],
   "source": [
    "df.isna().sum()"
   ]
  },
  {
   "cell_type": "markdown",
   "metadata": {},
   "source": [
    "##### replacing null values with -1"
   ]
  },
  {
   "cell_type": "code",
   "execution_count": 7,
   "metadata": {},
   "outputs": [
    {
     "data": {
      "text/plain": [
       "Date                    0\n",
       "product                 0\n",
       "phase                   0\n",
       "campaign_platform       0\n",
       "campaign_type           0\n",
       "communication_medium    0\n",
       "subchannel              0\n",
       "audience_type           0\n",
       "creative_type           0\n",
       "creative_name           0\n",
       "device                  0\n",
       "age                     0\n",
       "spends                  0\n",
       "impressions             0\n",
       "clicks                  0\n",
       "link_clicks             0\n",
       "dtype: int64"
      ]
     },
     "execution_count": 7,
     "metadata": {},
     "output_type": "execute_result"
    }
   ],
   "source": [
    "df.fillna(-1,inplace=True)\n",
    "df.isnull().sum()"
   ]
  },
  {
   "cell_type": "markdown",
   "metadata": {},
   "source": [
    "###### Ignore rows with 0 impressions"
   ]
  },
  {
   "cell_type": "code",
   "execution_count": 8,
   "metadata": {},
   "outputs": [
    {
     "data": {
      "text/plain": [
       "(16830, 16)"
      ]
     },
     "execution_count": 8,
     "metadata": {},
     "output_type": "execute_result"
    }
   ],
   "source": [
    "df = df[df['impressions']!=0]\n",
    "df.shape"
   ]
  },
  {
   "cell_type": "markdown",
   "metadata": {},
   "source": [
    "###### Computing Click Through Rate i.e no. of times ad was clicked divided by impressions"
   ]
  },
  {
   "cell_type": "code",
   "execution_count": 9,
   "metadata": {},
   "outputs": [
    {
     "data": {
      "text/plain": [
       "count    16830.000000\n",
       "mean         0.184974\n",
       "std          0.230185\n",
       "min          0.000000\n",
       "25%          0.000000\n",
       "50%          0.125000\n",
       "75%          0.257109\n",
       "max          2.000000\n",
       "Name: click_through_rate, dtype: float64"
      ]
     },
     "execution_count": 9,
     "metadata": {},
     "output_type": "execute_result"
    }
   ],
   "source": [
    "df['click_through_rate'] = df.apply(lambda x: x['clicks']/x['impressions'], axis=1)\n",
    "df['click_through_rate'].describe()"
   ]
  },
  {
   "cell_type": "markdown",
   "metadata": {},
   "source": [
    "###### Ignore rows with more than 1 click through rate"
   ]
  },
  {
   "cell_type": "code",
   "execution_count": 10,
   "metadata": {},
   "outputs": [
    {
     "data": {
      "text/plain": [
       "(26, 17)"
      ]
     },
     "execution_count": 10,
     "metadata": {},
     "output_type": "execute_result"
    }
   ],
   "source": [
    "df[df['click_through_rate']>1].shape\n"
   ]
  },
  {
   "cell_type": "markdown",
   "metadata": {},
   "source": [
    "###### 26 rows are removed"
   ]
  },
  {
   "cell_type": "code",
   "execution_count": 11,
   "metadata": {},
   "outputs": [
    {
     "data": {
      "text/plain": [
       "(16804, 17)"
      ]
     },
     "execution_count": 11,
     "metadata": {},
     "output_type": "execute_result"
    }
   ],
   "source": [
    "df = df[df['click_through_rate']<=1]\n",
    "df.shape"
   ]
  },
  {
   "cell_type": "code",
   "execution_count": 12,
   "metadata": {},
   "outputs": [
    {
     "name": "stdout",
     "output_type": "stream",
     "text": [
      "['Facebook Ads']\n"
     ]
    }
   ],
   "source": [
    "df1=df[df['link_clicks'] == -1]\n",
    "print(df1['campaign_platform'].unique())\n"
   ]
  },
  {
   "cell_type": "code",
   "execution_count": 13,
   "metadata": {},
   "outputs": [
    {
     "data": {
      "text/plain": [
       "(546, 17)"
      ]
     },
     "execution_count": 13,
     "metadata": {},
     "output_type": "execute_result"
    }
   ],
   "source": [
    "df1.shape"
   ]
  },
  {
   "cell_type": "markdown",
   "metadata": {},
   "source": [
    "## Exploratory Data Analysis"
   ]
  },
  {
   "cell_type": "code",
   "execution_count": 14,
   "metadata": {},
   "outputs": [
    {
     "data": {
      "text/plain": [
       "Google Ads      15071\n",
       "Facebook Ads     1733\n",
       "Name: campaign_platform, dtype: int64"
      ]
     },
     "execution_count": 14,
     "metadata": {},
     "output_type": "execute_result"
    }
   ],
   "source": [
    "df['campaign_platform'].value_counts()"
   ]
  },
  {
   "cell_type": "code",
   "execution_count": 15,
   "metadata": {},
   "outputs": [
    {
     "data": {
      "text/plain": [
       "Product 1    16804\n",
       "Name: product, dtype: int64"
      ]
     },
     "execution_count": 15,
     "metadata": {},
     "output_type": "execute_result"
    }
   ],
   "source": [
    "df['product'].value_counts()"
   ]
  },
  {
   "cell_type": "code",
   "execution_count": 16,
   "metadata": {},
   "outputs": [
    {
     "data": {
      "text/plain": [
       "Performance    16804\n",
       "Name: phase, dtype: int64"
      ]
     },
     "execution_count": 16,
     "metadata": {},
     "output_type": "execute_result"
    }
   ],
   "source": [
    "df['phase'].value_counts()"
   ]
  },
  {
   "cell_type": "code",
   "execution_count": 17,
   "metadata": {},
   "outputs": [
    {
     "data": {
      "text/plain": [
       "campaign_platform  campaign_type\n",
       "Facebook Ads       Conversions       1733\n",
       "Google Ads         Search           15071\n",
       "dtype: int64"
      ]
     },
     "execution_count": 17,
     "metadata": {},
     "output_type": "execute_result"
    }
   ],
   "source": [
    "df.groupby(['campaign_platform', 'campaign_type']).size()"
   ]
  },
  {
   "cell_type": "code",
   "execution_count": 18,
   "metadata": {},
   "outputs": [
    {
     "data": {
      "text/plain": [
       "campaign_platform  communication_medium\n",
       "Facebook Ads       Creative                 1733\n",
       "Google Ads         Search Keywords         15071\n",
       "dtype: int64"
      ]
     },
     "execution_count": 18,
     "metadata": {},
     "output_type": "execute_result"
    }
   ],
   "source": [
    "df.groupby(['campaign_platform', 'communication_medium']).size()"
   ]
  },
  {
   "cell_type": "code",
   "execution_count": 19,
   "metadata": {},
   "outputs": [
    {
     "data": {
      "text/plain": [
       "campaign_platform  subchannel  \n",
       "Facebook Ads       Facebook Ads    1733\n",
       "Google Ads         Brand           7829\n",
       "                   Competitor      2702\n",
       "                   Generic         4540\n",
       "dtype: int64"
      ]
     },
     "execution_count": 19,
     "metadata": {},
     "output_type": "execute_result"
    }
   ],
   "source": [
    "df.groupby(['campaign_platform', 'subchannel']).size()"
   ]
  },
  {
   "cell_type": "code",
   "execution_count": 20,
   "metadata": {
    "scrolled": true
   },
   "outputs": [
    {
     "data": {
      "text/plain": [
       "campaign_platform  device \n",
       "Facebook Ads       device     1733\n",
       "Google Ads         Desktop    6301\n",
       "                   Mobile     7346\n",
       "                   Tablet     1424\n",
       "dtype: int64"
      ]
     },
     "execution_count": 20,
     "metadata": {},
     "output_type": "execute_result"
    }
   ],
   "source": [
    "df.groupby(['campaign_platform','device']).size()"
   ]
  },
  {
   "cell_type": "code",
   "execution_count": 21,
   "metadata": {},
   "outputs": [
    {
     "data": {
      "text/plain": [
       "campaign_platform  age         \n",
       "Facebook Ads       25-34            488\n",
       "                   35-44            485\n",
       "                   45-54            477\n",
       "                   55-64            283\n",
       "Google Ads         18-24           2470\n",
       "                   25-34           2606\n",
       "                   35-44           2374\n",
       "                   45-54           2014\n",
       "                   55-64           1468\n",
       "                   65 or more      1554\n",
       "                   Undetermined    2585\n",
       "dtype: int64"
      ]
     },
     "execution_count": 21,
     "metadata": {},
     "output_type": "execute_result"
    }
   ],
   "source": [
    "df.groupby(['campaign_platform','age']).size()"
   ]
  },
  {
   "cell_type": "code",
   "execution_count": 22,
   "metadata": {
    "scrolled": true
   },
   "outputs": [
    {
     "name": "stdout",
     "output_type": "stream",
     "text": [
      "            age  impressions  clicks        spends\n",
      "1         25-34      3316819  101829  1.122511e+06\n",
      "2         35-44       885494   32311  3.661006e+05\n",
      "6  Undetermined       277015   27321  4.149076e+05\n",
      "3         45-54       203150    8542  9.171300e+04\n",
      "0         18-24       139914   28220  4.597657e+05\n",
      "4         55-64        14856    1490  2.081972e+04\n",
      "5    65 or more        10213    1847  2.616225e+04\n"
     ]
    }
   ],
   "source": [
    "imprsn_click=(df.groupby('age')['impressions','clicks','spends'].sum()).reset_index()\n",
    "imprsn_click.columns=['age','impressions','clicks','spends']\n",
    "imprsn_click=imprsn_click.sort_values('impressions',ascending=False)\n",
    "print(imprsn_click)\n"
   ]
  },
  {
   "cell_type": "code",
   "execution_count": 23,
   "metadata": {},
   "outputs": [
    {
     "name": "stdout",
     "output_type": "stream",
     "text": [
      "            age  click_through_rate\n",
      "1         25-34          608.843292\n",
      "0         18-24          600.732027\n",
      "2         35-44          536.246755\n",
      "3         45-54          418.480087\n",
      "6  Undetermined          347.727367\n",
      "5    65 or more          292.299927\n",
      "4         55-64          264.032648\n"
     ]
    }
   ],
   "source": [
    "CTR_by_age=(df.groupby('age')['click_through_rate'].sum()).reset_index()\n",
    "CTR_by_age.columns=['age','click_through_rate']\n",
    "CTR_by_age=CTR_by_age.sort_values('click_through_rate', ascending=False)\n",
    "print(CTR_by_age)\n"
   ]
  },
  {
   "cell_type": "code",
   "execution_count": 24,
   "metadata": {},
   "outputs": [
    {
     "data": {
      "text/html": [
       "<div>\n",
       "<style scoped>\n",
       "    .dataframe tbody tr th:only-of-type {\n",
       "        vertical-align: middle;\n",
       "    }\n",
       "\n",
       "    .dataframe tbody tr th {\n",
       "        vertical-align: top;\n",
       "    }\n",
       "\n",
       "    .dataframe thead th {\n",
       "        text-align: right;\n",
       "    }\n",
       "</style>\n",
       "<table border=\"1\" class=\"dataframe\">\n",
       "  <thead>\n",
       "    <tr style=\"text-align: right;\">\n",
       "      <th></th>\n",
       "      <th>spends</th>\n",
       "      <th>impressions</th>\n",
       "      <th>clicks</th>\n",
       "      <th>click_through_rate</th>\n",
       "    </tr>\n",
       "    <tr>\n",
       "      <th>campaign_platform</th>\n",
       "      <th></th>\n",
       "      <th></th>\n",
       "      <th></th>\n",
       "      <th></th>\n",
       "    </tr>\n",
       "  </thead>\n",
       "  <tbody>\n",
       "    <tr>\n",
       "      <td>Google Ads</td>\n",
       "      <td>128.582339</td>\n",
       "      <td>51.545949</td>\n",
       "      <td>8.227125</td>\n",
       "      <td>0.200437</td>\n",
       "    </tr>\n",
       "    <tr>\n",
       "      <td>Facebook Ads</td>\n",
       "      <td>325.513855</td>\n",
       "      <td>2348.881708</td>\n",
       "      <td>44.759954</td>\n",
       "      <td>0.027449</td>\n",
       "    </tr>\n",
       "  </tbody>\n",
       "</table>\n",
       "</div>"
      ],
      "text/plain": [
       "                       spends  impressions     clicks  click_through_rate\n",
       "campaign_platform                                                        \n",
       "Google Ads         128.582339    51.545949   8.227125            0.200437\n",
       "Facebook Ads       325.513855  2348.881708  44.759954            0.027449"
      ]
     },
     "execution_count": 24,
     "metadata": {},
     "output_type": "execute_result"
    }
   ],
   "source": [
    "df.groupby('campaign_platform')['spends','impressions','clicks','click_through_rate',].mean().sort_values('click_through_rate',ascending=False)\n"
   ]
  },
  {
   "cell_type": "code",
   "execution_count": 25,
   "metadata": {
    "scrolled": true
   },
   "outputs": [
    {
     "data": {
      "text/html": [
       "<div>\n",
       "<style scoped>\n",
       "    .dataframe tbody tr th:only-of-type {\n",
       "        vertical-align: middle;\n",
       "    }\n",
       "\n",
       "    .dataframe tbody tr th {\n",
       "        vertical-align: top;\n",
       "    }\n",
       "\n",
       "    .dataframe thead th {\n",
       "        text-align: right;\n",
       "    }\n",
       "</style>\n",
       "<table border=\"1\" class=\"dataframe\">\n",
       "  <thead>\n",
       "    <tr style=\"text-align: right;\">\n",
       "      <th></th>\n",
       "      <th>impressions</th>\n",
       "      <th>clicks</th>\n",
       "      <th>click_through_rate</th>\n",
       "    </tr>\n",
       "    <tr>\n",
       "      <th>audience_type</th>\n",
       "      <th></th>\n",
       "      <th></th>\n",
       "      <th></th>\n",
       "    </tr>\n",
       "  </thead>\n",
       "  <tbody>\n",
       "    <tr>\n",
       "      <td>Audience 3</td>\n",
       "      <td>261.126374</td>\n",
       "      <td>7.368132</td>\n",
       "      <td>0.032455</td>\n",
       "    </tr>\n",
       "    <tr>\n",
       "      <td>Audience 2</td>\n",
       "      <td>873.100271</td>\n",
       "      <td>19.861789</td>\n",
       "      <td>0.030021</td>\n",
       "    </tr>\n",
       "    <tr>\n",
       "      <td>Audience 1</td>\n",
       "      <td>4155.890529</td>\n",
       "      <td>75.731857</td>\n",
       "      <td>0.023993</td>\n",
       "    </tr>\n",
       "  </tbody>\n",
       "</table>\n",
       "</div>"
      ],
      "text/plain": [
       "               impressions     clicks  click_through_rate\n",
       "audience_type                                            \n",
       "Audience 3      261.126374   7.368132            0.032455\n",
       "Audience 2      873.100271  19.861789            0.030021\n",
       "Audience 1     4155.890529  75.731857            0.023993"
      ]
     },
     "execution_count": 25,
     "metadata": {},
     "output_type": "execute_result"
    }
   ],
   "source": [
    "df[df['campaign_platform']=='Facebook Ads'].groupby(['audience_type'])['impressions','clicks','click_through_rate'].mean().sort_values('click_through_rate',ascending=False)\n"
   ]
  },
  {
   "cell_type": "code",
   "execution_count": 26,
   "metadata": {},
   "outputs": [
    {
     "data": {
      "text/html": [
       "<div>\n",
       "<style scoped>\n",
       "    .dataframe tbody tr th:only-of-type {\n",
       "        vertical-align: middle;\n",
       "    }\n",
       "\n",
       "    .dataframe tbody tr th {\n",
       "        vertical-align: top;\n",
       "    }\n",
       "\n",
       "    .dataframe thead th {\n",
       "        text-align: right;\n",
       "    }\n",
       "</style>\n",
       "<table border=\"1\" class=\"dataframe\">\n",
       "  <thead>\n",
       "    <tr style=\"text-align: right;\">\n",
       "      <th></th>\n",
       "      <th>impressions</th>\n",
       "      <th>clicks</th>\n",
       "      <th>click_through_rate</th>\n",
       "    </tr>\n",
       "    <tr>\n",
       "      <th>creative_type</th>\n",
       "      <th></th>\n",
       "      <th></th>\n",
       "      <th></th>\n",
       "    </tr>\n",
       "  </thead>\n",
       "  <tbody>\n",
       "    <tr>\n",
       "      <td>Image</td>\n",
       "      <td>3239.326549</td>\n",
       "      <td>63.761062</td>\n",
       "      <td>0.029137</td>\n",
       "    </tr>\n",
       "    <tr>\n",
       "      <td>Carousal</td>\n",
       "      <td>680.220564</td>\n",
       "      <td>9.152570</td>\n",
       "      <td>0.024284</td>\n",
       "    </tr>\n",
       "  </tbody>\n",
       "</table>\n",
       "</div>"
      ],
      "text/plain": [
       "               impressions     clicks  click_through_rate\n",
       "creative_type                                            \n",
       "Image          3239.326549  63.761062            0.029137\n",
       "Carousal        680.220564   9.152570            0.024284"
      ]
     },
     "execution_count": 26,
     "metadata": {},
     "output_type": "execute_result"
    }
   ],
   "source": [
    "df[df['campaign_platform']=='Facebook Ads'].groupby('creative_type')['impressions','clicks','click_through_rate'].mean().sort_values('click_through_rate',ascending=False)"
   ]
  },
  {
   "cell_type": "code",
   "execution_count": 27,
   "metadata": {},
   "outputs": [
    {
     "data": {
      "text/html": [
       "<div>\n",
       "<style scoped>\n",
       "    .dataframe tbody tr th:only-of-type {\n",
       "        vertical-align: middle;\n",
       "    }\n",
       "\n",
       "    .dataframe tbody tr th {\n",
       "        vertical-align: top;\n",
       "    }\n",
       "\n",
       "    .dataframe thead th {\n",
       "        text-align: right;\n",
       "    }\n",
       "</style>\n",
       "<table border=\"1\" class=\"dataframe\">\n",
       "  <thead>\n",
       "    <tr style=\"text-align: right;\">\n",
       "      <th></th>\n",
       "      <th>impressions</th>\n",
       "      <th>clicks</th>\n",
       "      <th>click_through_rate</th>\n",
       "    </tr>\n",
       "    <tr>\n",
       "      <th>creative_name</th>\n",
       "      <th></th>\n",
       "      <th></th>\n",
       "      <th></th>\n",
       "    </tr>\n",
       "  </thead>\n",
       "  <tbody>\n",
       "    <tr>\n",
       "      <td>Click</td>\n",
       "      <td>4881.226708</td>\n",
       "      <td>95.822981</td>\n",
       "      <td>0.031590</td>\n",
       "    </tr>\n",
       "    <tr>\n",
       "      <td>Girl</td>\n",
       "      <td>1063.639918</td>\n",
       "      <td>21.275720</td>\n",
       "      <td>0.025888</td>\n",
       "    </tr>\n",
       "    <tr>\n",
       "      <td>Carousal</td>\n",
       "      <td>680.220564</td>\n",
       "      <td>9.152570</td>\n",
       "      <td>0.024284</td>\n",
       "    </tr>\n",
       "  </tbody>\n",
       "</table>\n",
       "</div>"
      ],
      "text/plain": [
       "               impressions     clicks  click_through_rate\n",
       "creative_name                                            \n",
       "Click          4881.226708  95.822981            0.031590\n",
       "Girl           1063.639918  21.275720            0.025888\n",
       "Carousal        680.220564   9.152570            0.024284"
      ]
     },
     "execution_count": 27,
     "metadata": {},
     "output_type": "execute_result"
    }
   ],
   "source": [
    "df[df['campaign_platform']=='Facebook Ads'].groupby('creative_name')['impressions','clicks','click_through_rate'].mean().sort_values('click_through_rate',ascending=False)\n"
   ]
  },
  {
   "cell_type": "code",
   "execution_count": 28,
   "metadata": {
    "scrolled": true
   },
   "outputs": [
    {
     "data": {
      "text/html": [
       "<div>\n",
       "<style scoped>\n",
       "    .dataframe tbody tr th:only-of-type {\n",
       "        vertical-align: middle;\n",
       "    }\n",
       "\n",
       "    .dataframe tbody tr th {\n",
       "        vertical-align: top;\n",
       "    }\n",
       "\n",
       "    .dataframe thead th {\n",
       "        text-align: right;\n",
       "    }\n",
       "</style>\n",
       "<table border=\"1\" class=\"dataframe\">\n",
       "  <thead>\n",
       "    <tr style=\"text-align: right;\">\n",
       "      <th></th>\n",
       "      <th></th>\n",
       "      <th></th>\n",
       "      <th>impressions</th>\n",
       "      <th>clicks</th>\n",
       "      <th>click_through_rate</th>\n",
       "    </tr>\n",
       "    <tr>\n",
       "      <th>audience_type</th>\n",
       "      <th>creative_type</th>\n",
       "      <th>creative_name</th>\n",
       "      <th></th>\n",
       "      <th></th>\n",
       "      <th></th>\n",
       "    </tr>\n",
       "  </thead>\n",
       "  <tbody>\n",
       "    <tr>\n",
       "      <td rowspan=\"3\" valign=\"top\">Audience 1</td>\n",
       "      <td>Carousal</td>\n",
       "      <td>Carousal</td>\n",
       "      <td>900.025547</td>\n",
       "      <td>11.923358</td>\n",
       "      <td>0.023711</td>\n",
       "    </tr>\n",
       "    <tr>\n",
       "      <td rowspan=\"2\" valign=\"top\">Image</td>\n",
       "      <td>Click</td>\n",
       "      <td>9376.340206</td>\n",
       "      <td>172.814433</td>\n",
       "      <td>0.025234</td>\n",
       "    </tr>\n",
       "    <tr>\n",
       "      <td>Girl</td>\n",
       "      <td>1627.487903</td>\n",
       "      <td>32.314516</td>\n",
       "      <td>0.022847</td>\n",
       "    </tr>\n",
       "    <tr>\n",
       "      <td rowspan=\"3\" valign=\"top\">Audience 2</td>\n",
       "      <td>Carousal</td>\n",
       "      <td>Carousal</td>\n",
       "      <td>574.892086</td>\n",
       "      <td>7.776978</td>\n",
       "      <td>0.022463</td>\n",
       "    </tr>\n",
       "    <tr>\n",
       "      <td rowspan=\"2\" valign=\"top\">Image</td>\n",
       "      <td>Click</td>\n",
       "      <td>1375.055556</td>\n",
       "      <td>37.687500</td>\n",
       "      <td>0.037943</td>\n",
       "    </tr>\n",
       "    <tr>\n",
       "      <td>Girl</td>\n",
       "      <td>514.604651</td>\n",
       "      <td>9.546512</td>\n",
       "      <td>0.028974</td>\n",
       "    </tr>\n",
       "    <tr>\n",
       "      <td rowspan=\"3\" valign=\"top\">Audience 3</td>\n",
       "      <td>Carousal</td>\n",
       "      <td>Carousal</td>\n",
       "      <td>73.450980</td>\n",
       "      <td>1.764706</td>\n",
       "      <td>0.037291</td>\n",
       "    </tr>\n",
       "    <tr>\n",
       "      <td rowspan=\"2\" valign=\"top\">Image</td>\n",
       "      <td>Click</td>\n",
       "      <td>291.984615</td>\n",
       "      <td>8.723077</td>\n",
       "      <td>0.031890</td>\n",
       "    </tr>\n",
       "    <tr>\n",
       "      <td>Girl</td>\n",
       "      <td>375.757576</td>\n",
       "      <td>10.363636</td>\n",
       "      <td>0.029274</td>\n",
       "    </tr>\n",
       "  </tbody>\n",
       "</table>\n",
       "</div>"
      ],
      "text/plain": [
       "                                           impressions      clicks  \\\n",
       "audience_type creative_type creative_name                            \n",
       "Audience 1    Carousal      Carousal        900.025547   11.923358   \n",
       "              Image         Click          9376.340206  172.814433   \n",
       "                            Girl           1627.487903   32.314516   \n",
       "Audience 2    Carousal      Carousal        574.892086    7.776978   \n",
       "              Image         Click          1375.055556   37.687500   \n",
       "                            Girl            514.604651    9.546512   \n",
       "Audience 3    Carousal      Carousal         73.450980    1.764706   \n",
       "              Image         Click           291.984615    8.723077   \n",
       "                            Girl            375.757576   10.363636   \n",
       "\n",
       "                                           click_through_rate  \n",
       "audience_type creative_type creative_name                      \n",
       "Audience 1    Carousal      Carousal                 0.023711  \n",
       "              Image         Click                    0.025234  \n",
       "                            Girl                     0.022847  \n",
       "Audience 2    Carousal      Carousal                 0.022463  \n",
       "              Image         Click                    0.037943  \n",
       "                            Girl                     0.028974  \n",
       "Audience 3    Carousal      Carousal                 0.037291  \n",
       "              Image         Click                    0.031890  \n",
       "                            Girl                     0.029274  "
      ]
     },
     "execution_count": 28,
     "metadata": {},
     "output_type": "execute_result"
    }
   ],
   "source": [
    "df[df['campaign_platform']=='Facebook Ads'].groupby(['audience_type','creative_type','creative_name'])['impressions','clicks','click_through_rate'].mean()\n"
   ]
  },
  {
   "cell_type": "code",
   "execution_count": 29,
   "metadata": {},
   "outputs": [
    {
     "data": {
      "text/html": [
       "<div>\n",
       "<style scoped>\n",
       "    .dataframe tbody tr th:only-of-type {\n",
       "        vertical-align: middle;\n",
       "    }\n",
       "\n",
       "    .dataframe tbody tr th {\n",
       "        vertical-align: top;\n",
       "    }\n",
       "\n",
       "    .dataframe thead th {\n",
       "        text-align: right;\n",
       "    }\n",
       "</style>\n",
       "<table border=\"1\" class=\"dataframe\">\n",
       "  <thead>\n",
       "    <tr style=\"text-align: right;\">\n",
       "      <th></th>\n",
       "      <th></th>\n",
       "      <th>impressions</th>\n",
       "      <th>clicks</th>\n",
       "      <th>click_through_rate</th>\n",
       "    </tr>\n",
       "    <tr>\n",
       "      <th>device</th>\n",
       "      <th>subchannel</th>\n",
       "      <th></th>\n",
       "      <th></th>\n",
       "      <th></th>\n",
       "    </tr>\n",
       "  </thead>\n",
       "  <tbody>\n",
       "    <tr>\n",
       "      <td rowspan=\"3\" valign=\"top\">Desktop</td>\n",
       "      <td>Brand</td>\n",
       "      <td>23.191523</td>\n",
       "      <td>5.748195</td>\n",
       "      <td>0.297874</td>\n",
       "    </tr>\n",
       "    <tr>\n",
       "      <td>Competitor</td>\n",
       "      <td>13.089390</td>\n",
       "      <td>1.580618</td>\n",
       "      <td>0.142661</td>\n",
       "    </tr>\n",
       "    <tr>\n",
       "      <td>Generic</td>\n",
       "      <td>36.953101</td>\n",
       "      <td>4.709745</td>\n",
       "      <td>0.119688</td>\n",
       "    </tr>\n",
       "    <tr>\n",
       "      <td rowspan=\"3\" valign=\"top\">Mobile</td>\n",
       "      <td>Brand</td>\n",
       "      <td>56.951013</td>\n",
       "      <td>13.128751</td>\n",
       "      <td>0.266235</td>\n",
       "    </tr>\n",
       "    <tr>\n",
       "      <td>Competitor</td>\n",
       "      <td>56.476879</td>\n",
       "      <td>6.175578</td>\n",
       "      <td>0.131258</td>\n",
       "    </tr>\n",
       "    <tr>\n",
       "      <td>Generic</td>\n",
       "      <td>151.802714</td>\n",
       "      <td>16.762482</td>\n",
       "      <td>0.115828</td>\n",
       "    </tr>\n",
       "    <tr>\n",
       "      <td rowspan=\"3\" valign=\"top\">Tablet</td>\n",
       "      <td>Brand</td>\n",
       "      <td>2.446980</td>\n",
       "      <td>0.440268</td>\n",
       "      <td>0.204627</td>\n",
       "    </tr>\n",
       "    <tr>\n",
       "      <td>Competitor</td>\n",
       "      <td>1.272727</td>\n",
       "      <td>0.057851</td>\n",
       "      <td>0.053719</td>\n",
       "    </tr>\n",
       "    <tr>\n",
       "      <td>Generic</td>\n",
       "      <td>1.865591</td>\n",
       "      <td>0.181004</td>\n",
       "      <td>0.096789</td>\n",
       "    </tr>\n",
       "  </tbody>\n",
       "</table>\n",
       "</div>"
      ],
      "text/plain": [
       "                    impressions     clicks  click_through_rate\n",
       "device  subchannel                                            \n",
       "Desktop Brand         23.191523   5.748195            0.297874\n",
       "        Competitor    13.089390   1.580618            0.142661\n",
       "        Generic       36.953101   4.709745            0.119688\n",
       "Mobile  Brand         56.951013  13.128751            0.266235\n",
       "        Competitor    56.476879   6.175578            0.131258\n",
       "        Generic      151.802714  16.762482            0.115828\n",
       "Tablet  Brand          2.446980   0.440268            0.204627\n",
       "        Competitor     1.272727   0.057851            0.053719\n",
       "        Generic        1.865591   0.181004            0.096789"
      ]
     },
     "execution_count": 29,
     "metadata": {},
     "output_type": "execute_result"
    }
   ],
   "source": [
    "df[df['campaign_platform']=='Google Ads'].groupby(['device','subchannel'])['impressions','clicks','click_through_rate'].mean()\n"
   ]
  },
  {
   "cell_type": "markdown",
   "metadata": {},
   "source": [
    "### Findings from EDA:\n",
    "1. There is only one unique value of product and phase. These two columns are not informative for model building.\n",
    "2. campaign_platform, campaign_type, communication_medium are having correlation of 1, so we can consider campaign_platform and drop other two columns.\n",
    "3. There are 3 types of audience for facebook Ads, but no such information avaliable for Google Ads.\n",
    "4. There are 2 types and 3 types of creative_type and creative_name respectively, but no such information available for Google Ads.\n",
    "5. Device information is not available for Facebook Ads, whereas Google Ads are shown on 3 different devices.\n",
    "6. Sub Channel information is not available for Facebook Ads, whereas Google Ads have 3 different sub channels.\n",
    "7. No. of ads on Google Platform are far more than Facebook Platform.\n",
    "8. Average impressions and clicks are more for age group 25-34 and 35-44 but avergae click throgh rate is high of age group 25-34 and 18-24.\n",
    "9. Average spend, impressions and clicks of Audience 1 and Audience 2 is more but click through rate of Audience 3 is high.\n",
    "10. Creative_type image has higher impressions, clicks and click through rate than creative_type carousal.\n",
    "11. creative_name clicks has higher impressions, clicks, and click through rate followed by girls and carousal creative_name.\n",
    "##### Average spend, impressions and clicks on facebook ads is more than Google Ads, but click through rate is higher in Google Ads."
   ]
  },
  {
   "cell_type": "code",
   "execution_count": 30,
   "metadata": {},
   "outputs": [
    {
     "data": {
      "image/png": "[encoded data removed]",
      "text/plain": [
       "<Figure size 576x288 with 1 Axes>"
      ]
     },
     "metadata": {},
     "output_type": "display_data"
    }
   ],
   "source": [
    "sns.set(rc={\"figure.figsize\": (8, 4)}); np.random.seed(0)\n",
    "ax = sns.distplot(df['click_through_rate'].dropna())\n",
    "plt.show()"
   ]
  },
  {
   "cell_type": "markdown",
   "metadata": {},
   "source": [
    "##### Converting object type columns using LabelEncoder for correlation Matrix"
   ]
  },
  {
   "cell_type": "code",
   "execution_count": 31,
   "metadata": {},
   "outputs": [],
   "source": [
    "df1=df.copy()\n",
    "categoricalColumns=df.select_dtypes(include=[np.object]).columns\n",
    "le=LabelEncoder()\n",
    "for column in categoricalColumns:\n",
    "    df1[column]=le.fit_transform(df1[column])"
   ]
  },
  {
   "cell_type": "code",
   "execution_count": 32,
   "metadata": {},
   "outputs": [
    {
     "data": {
      "image/png": "[encoded data removed]",
      "text/plain": [
       "<Figure size 1152x648 with 2 Axes>"
      ]
     },
     "metadata": {},
     "output_type": "display_data"
    }
   ],
   "source": [
    "plt.figure(figsize=(16,9))\n",
    "corr_matrix=df1.corr()\n",
    "matrix = np.triu(corr_matrix)\n",
    "sns.heatmap(corr_matrix, annot=True,mask=matrix)\n",
    "plt.show()"
   ]
  },
  {
   "cell_type": "markdown",
   "metadata": {},
   "source": [
    "##### Dropping unnecessary columns"
   ]
  },
  {
   "cell_type": "code",
   "execution_count": 33,
   "metadata": {},
   "outputs": [],
   "source": [
    "df=df.drop(['product','phase','Date','clicks','link_clicks','impressions'],axis=1)\n",
    "#drop column with correlation of 1\n",
    "df=df.drop(['campaign_type','communication_medium'],axis=1)\n"
   ]
  },
  {
   "cell_type": "markdown",
   "metadata": {},
   "source": [
    "###### One Hot Encoding"
   ]
  },
  {
   "cell_type": "code",
   "execution_count": 34,
   "metadata": {
    "scrolled": false
   },
   "outputs": [
    {
     "data": {
      "text/html": [
       "<div>\n",
       "<style scoped>\n",
       "    .dataframe tbody tr th:only-of-type {\n",
       "        vertical-align: middle;\n",
       "    }\n",
       "\n",
       "    .dataframe tbody tr th {\n",
       "        vertical-align: top;\n",
       "    }\n",
       "\n",
       "    .dataframe thead th {\n",
       "        text-align: right;\n",
       "    }\n",
       "</style>\n",
       "<table border=\"1\" class=\"dataframe\">\n",
       "  <thead>\n",
       "    <tr style=\"text-align: right;\">\n",
       "      <th></th>\n",
       "      <th>spends</th>\n",
       "      <th>click_through_rate</th>\n",
       "      <th>campaign_platform_Facebook Ads</th>\n",
       "      <th>campaign_platform_Google Ads</th>\n",
       "      <th>subchannel_Brand</th>\n",
       "      <th>subchannel_Competitor</th>\n",
       "      <th>subchannel_Facebook Ads</th>\n",
       "      <th>subchannel_Generic</th>\n",
       "      <th>audience_type_'-</th>\n",
       "      <th>audience_type_Audience 1</th>\n",
       "      <th>...</th>\n",
       "      <th>device_Mobile</th>\n",
       "      <th>device_Tablet</th>\n",
       "      <th>device_device</th>\n",
       "      <th>age_18-24</th>\n",
       "      <th>age_25-34</th>\n",
       "      <th>age_35-44</th>\n",
       "      <th>age_45-54</th>\n",
       "      <th>age_55-64</th>\n",
       "      <th>age_65 or more</th>\n",
       "      <th>age_Undetermined</th>\n",
       "    </tr>\n",
       "  </thead>\n",
       "  <tbody>\n",
       "    <tr>\n",
       "      <td>0</td>\n",
       "      <td>0.00</td>\n",
       "      <td>0.0</td>\n",
       "      <td>0</td>\n",
       "      <td>1</td>\n",
       "      <td>1</td>\n",
       "      <td>0</td>\n",
       "      <td>0</td>\n",
       "      <td>0</td>\n",
       "      <td>1</td>\n",
       "      <td>0</td>\n",
       "      <td>...</td>\n",
       "      <td>0</td>\n",
       "      <td>0</td>\n",
       "      <td>0</td>\n",
       "      <td>1</td>\n",
       "      <td>0</td>\n",
       "      <td>0</td>\n",
       "      <td>0</td>\n",
       "      <td>0</td>\n",
       "      <td>0</td>\n",
       "      <td>0</td>\n",
       "    </tr>\n",
       "    <tr>\n",
       "      <td>1</td>\n",
       "      <td>0.00</td>\n",
       "      <td>0.0</td>\n",
       "      <td>0</td>\n",
       "      <td>1</td>\n",
       "      <td>1</td>\n",
       "      <td>0</td>\n",
       "      <td>0</td>\n",
       "      <td>0</td>\n",
       "      <td>1</td>\n",
       "      <td>0</td>\n",
       "      <td>...</td>\n",
       "      <td>0</td>\n",
       "      <td>0</td>\n",
       "      <td>0</td>\n",
       "      <td>0</td>\n",
       "      <td>1</td>\n",
       "      <td>0</td>\n",
       "      <td>0</td>\n",
       "      <td>0</td>\n",
       "      <td>0</td>\n",
       "      <td>0</td>\n",
       "    </tr>\n",
       "    <tr>\n",
       "      <td>2</td>\n",
       "      <td>0.00</td>\n",
       "      <td>0.0</td>\n",
       "      <td>0</td>\n",
       "      <td>1</td>\n",
       "      <td>1</td>\n",
       "      <td>0</td>\n",
       "      <td>0</td>\n",
       "      <td>0</td>\n",
       "      <td>1</td>\n",
       "      <td>0</td>\n",
       "      <td>...</td>\n",
       "      <td>0</td>\n",
       "      <td>0</td>\n",
       "      <td>0</td>\n",
       "      <td>0</td>\n",
       "      <td>0</td>\n",
       "      <td>1</td>\n",
       "      <td>0</td>\n",
       "      <td>0</td>\n",
       "      <td>0</td>\n",
       "      <td>0</td>\n",
       "    </tr>\n",
       "    <tr>\n",
       "      <td>3</td>\n",
       "      <td>14.63</td>\n",
       "      <td>0.6</td>\n",
       "      <td>0</td>\n",
       "      <td>1</td>\n",
       "      <td>1</td>\n",
       "      <td>0</td>\n",
       "      <td>0</td>\n",
       "      <td>0</td>\n",
       "      <td>1</td>\n",
       "      <td>0</td>\n",
       "      <td>...</td>\n",
       "      <td>0</td>\n",
       "      <td>0</td>\n",
       "      <td>0</td>\n",
       "      <td>0</td>\n",
       "      <td>0</td>\n",
       "      <td>0</td>\n",
       "      <td>0</td>\n",
       "      <td>0</td>\n",
       "      <td>0</td>\n",
       "      <td>1</td>\n",
       "    </tr>\n",
       "    <tr>\n",
       "      <td>4</td>\n",
       "      <td>53.31</td>\n",
       "      <td>0.2</td>\n",
       "      <td>0</td>\n",
       "      <td>1</td>\n",
       "      <td>1</td>\n",
       "      <td>0</td>\n",
       "      <td>0</td>\n",
       "      <td>0</td>\n",
       "      <td>1</td>\n",
       "      <td>0</td>\n",
       "      <td>...</td>\n",
       "      <td>0</td>\n",
       "      <td>0</td>\n",
       "      <td>0</td>\n",
       "      <td>1</td>\n",
       "      <td>0</td>\n",
       "      <td>0</td>\n",
       "      <td>0</td>\n",
       "      <td>0</td>\n",
       "      <td>0</td>\n",
       "      <td>0</td>\n",
       "    </tr>\n",
       "  </tbody>\n",
       "</table>\n",
       "<p>5 rows × 30 columns</p>\n",
       "</div>"
      ],
      "text/plain": [
       "   spends  click_through_rate  campaign_platform_Facebook Ads  \\\n",
       "0    0.00                 0.0                               0   \n",
       "1    0.00                 0.0                               0   \n",
       "2    0.00                 0.0                               0   \n",
       "3   14.63                 0.6                               0   \n",
       "4   53.31                 0.2                               0   \n",
       "\n",
       "   campaign_platform_Google Ads  subchannel_Brand  subchannel_Competitor  \\\n",
       "0                             1                 1                      0   \n",
       "1                             1                 1                      0   \n",
       "2                             1                 1                      0   \n",
       "3                             1                 1                      0   \n",
       "4                             1                 1                      0   \n",
       "\n",
       "   subchannel_Facebook Ads  subchannel_Generic  audience_type_'-  \\\n",
       "0                        0                   0                 1   \n",
       "1                        0                   0                 1   \n",
       "2                        0                   0                 1   \n",
       "3                        0                   0                 1   \n",
       "4                        0                   0                 1   \n",
       "\n",
       "   audience_type_Audience 1  ...  device_Mobile  device_Tablet  device_device  \\\n",
       "0                         0  ...              0              0              0   \n",
       "1                         0  ...              0              0              0   \n",
       "2                         0  ...              0              0              0   \n",
       "3                         0  ...              0              0              0   \n",
       "4                         0  ...              0              0              0   \n",
       "\n",
       "   age_18-24  age_25-34  age_35-44  age_45-54  age_55-64  age_65 or more  \\\n",
       "0          1          0          0          0          0               0   \n",
       "1          0          1          0          0          0               0   \n",
       "2          0          0          1          0          0               0   \n",
       "3          0          0          0          0          0               0   \n",
       "4          1          0          0          0          0               0   \n",
       "\n",
       "   age_Undetermined  \n",
       "0                 0  \n",
       "1                 0  \n",
       "2                 0  \n",
       "3                 1  \n",
       "4                 0  \n",
       "\n",
       "[5 rows x 30 columns]"
      ]
     },
     "execution_count": 34,
     "metadata": {},
     "output_type": "execute_result"
    }
   ],
   "source": [
    "df=pd.get_dummies(df)\n",
    "df.head()"
   ]
  },
  {
   "cell_type": "markdown",
   "metadata": {},
   "source": [
    "### Creating a Regression model for click through rate"
   ]
  },
  {
   "cell_type": "code",
   "execution_count": 35,
   "metadata": {},
   "outputs": [],
   "source": [
    "features = df.drop(['click_through_rate'], axis=1)\n",
    "label = df['click_through_rate']"
   ]
  },
  {
   "cell_type": "code",
   "execution_count": 36,
   "metadata": {},
   "outputs": [
    {
     "name": "stdout",
     "output_type": "stream",
     "text": [
      "Dimensions of datasets that will be used for training : Input features(12603, 29) Output label(12603,)\n",
      "Dimensions of datasets that will be used for testing : Input features(4201, 29) Output label(4201,)\n"
     ]
    }
   ],
   "source": [
    "X_train, X_test, y_train, y_test = train_test_split(features,label , random_state=0)\n",
    "print(\"Dimensions of datasets that will be used for training : Input features\"+str(X_train.shape)+ \n",
    "      \" Output label\" + str(y_train.shape))\n",
    "print(\"Dimensions of datasets that will be used for testing : Input features\"+str(X_test.shape)+ \n",
    "      \" Output label\" + str(y_test.shape))"
   ]
  },
  {
   "cell_type": "markdown",
   "metadata": {},
   "source": [
    "##### Function for calculating Mean squared error and R2 score"
   ]
  },
  {
   "cell_type": "code",
   "execution_count": 37,
   "metadata": {},
   "outputs": [],
   "source": [
    "def model_metrics(model,y_test,y_pred):\n",
    "    mse = mean_squared_error(y_test,y_pred)\n",
    "    print(\"Mean squared error of {} : {:0.2f} \".format(model,mse) )\n",
    "    r2 = r2_score(y_test, y_pred)\n",
    "    print('R2 score: %.2f' % r2 )\n",
    "    return [mse, r2]"
   ]
  },
  {
   "cell_type": "markdown",
   "metadata": {},
   "source": [
    "##### Applying Different Regression models\n"
   ]
  },
  {
   "cell_type": "code",
   "execution_count": 38,
   "metadata": {},
   "outputs": [
    {
     "name": "stdout",
     "output_type": "stream",
     "text": [
      "Mean squared error of Linear Regression : 0.04 \n",
      "R2 score: 0.19\n"
     ]
    }
   ],
   "source": [
    "from sklearn.linear_model import LinearRegression\n",
    "slregressor = LinearRegression()\n",
    "slregressor.fit(X_train,y_train)\n",
    "y_pred_slr= slregressor.predict(X_test)\n",
    "slrMetrics = model_metrics(\"Linear Regression\",y_test,y_pred_slr)"
   ]
  },
  {
   "cell_type": "code",
   "execution_count": 39,
   "metadata": {},
   "outputs": [
    {
     "name": "stdout",
     "output_type": "stream",
     "text": [
      "Mean squared error of Decision Tree : 0.04 \n",
      "R2 score: 0.20\n"
     ]
    }
   ],
   "source": [
    "from sklearn.tree import DecisionTreeRegressor\n",
    "dtr_model = DecisionTreeRegressor(random_state=0)\n",
    "dtr_model.fit(X_train,y_train)\n",
    "y_pred_dtr = dtr_model.predict(X_test)\n",
    "dtrMetrics = model_metrics(\"Decision Tree\",y_test,y_pred_dtr)"
   ]
  },
  {
   "cell_type": "code",
   "execution_count": 40,
   "metadata": {},
   "outputs": [
    {
     "name": "stdout",
     "output_type": "stream",
     "text": [
      "Mean squared error of RandomForest : 0.02 \n",
      "R2 score: 0.53\n"
     ]
    }
   ],
   "source": [
    "from sklearn.ensemble import RandomForestRegressor\n",
    "rfr_model = RandomForestRegressor(n_estimators=100, max_depth=15,random_state=0)\n",
    "rfr_model.fit(X_train,y_train)\n",
    "y_pred_rfr = rfr_model.predict(X_test)\n",
    "rfrMetrics = model_metrics(\"RandomForest\",y_test,y_pred_rfr)"
   ]
  }
 ],
 "metadata": {
  "kernelspec": {
   "display_name": "Python 3",
   "language": "python",
   "name": "python3"
  },
  "language_info": {
   "codemirror_mode": {
    "name": "ipython",
    "version": 3
   },
   "file_extension": ".py",
   "mimetype": "text/x-python",
   "name": "python",
   "nbconvert_exporter": "python",
   "pygments_lexer": "ipython3",
   "version": "3.7.4"
  }
 },
 "nbformat": 4,
 "nbformat_minor": 2
}
