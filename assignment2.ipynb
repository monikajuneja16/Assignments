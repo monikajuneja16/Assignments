{
 "cells": [
  {
   "cell_type": "markdown",
   "metadata": {},
   "source": [
    "# Assignment 2"
   ]
  },
  {
   "cell_type": "code",
   "execution_count": 56,
   "metadata": {},
   "outputs": [],
   "source": [
    "import pandas as pd\n",
    "import numpy as np\n",
    "import matplotlib.pyplot as plt\n"
   ]
  },
  {
   "cell_type": "code",
   "execution_count": 57,
   "metadata": {},
   "outputs": [],
   "source": [
    "df=pd.read_csv('Assignment 2.csv')"
   ]
  },
  {
   "cell_type": "code",
   "execution_count": 58,
   "metadata": {},
   "outputs": [
    {
     "data": {
      "text/html": [
       "<div>\n",
       "<style scoped>\n",
       "    .dataframe tbody tr th:only-of-type {\n",
       "        vertical-align: middle;\n",
       "    }\n",
       "\n",
       "    .dataframe tbody tr th {\n",
       "        vertical-align: top;\n",
       "    }\n",
       "\n",
       "    .dataframe thead th {\n",
       "        text-align: right;\n",
       "    }\n",
       "</style>\n",
       "<table border=\"1\" class=\"dataframe\">\n",
       "  <thead>\n",
       "    <tr style=\"text-align: right;\">\n",
       "      <th></th>\n",
       "      <th>SKU</th>\n",
       "      <th>01-08-19</th>\n",
       "      <th>02-08-19</th>\n",
       "      <th>03-08-19</th>\n",
       "      <th>04-08-19</th>\n",
       "      <th>05-08-19</th>\n",
       "      <th>06-08-19</th>\n",
       "      <th>07-08-19</th>\n",
       "      <th>08-08-19</th>\n",
       "      <th>09-08-19</th>\n",
       "      <th>...</th>\n",
       "      <th>22-07-20</th>\n",
       "      <th>23-07-20</th>\n",
       "      <th>24-07-20</th>\n",
       "      <th>25-07-20</th>\n",
       "      <th>26-07-20</th>\n",
       "      <th>27-07-20</th>\n",
       "      <th>28-07-20</th>\n",
       "      <th>29-07-20</th>\n",
       "      <th>30-07-20</th>\n",
       "      <th>31-07-20</th>\n",
       "    </tr>\n",
       "  </thead>\n",
       "  <tbody>\n",
       "    <tr>\n",
       "      <td>0</td>\n",
       "      <td>2527</td>\n",
       "      <td>1551</td>\n",
       "      <td>1613</td>\n",
       "      <td>1613</td>\n",
       "      <td>1532</td>\n",
       "      <td>1517</td>\n",
       "      <td>1441</td>\n",
       "      <td>1383</td>\n",
       "      <td>1424</td>\n",
       "      <td>1381</td>\n",
       "      <td>...</td>\n",
       "      <td>1929</td>\n",
       "      <td>1948</td>\n",
       "      <td>1929</td>\n",
       "      <td>1987</td>\n",
       "      <td>2027</td>\n",
       "      <td>1926</td>\n",
       "      <td>1926</td>\n",
       "      <td>1849</td>\n",
       "      <td>1904</td>\n",
       "      <td>1828</td>\n",
       "    </tr>\n",
       "    <tr>\n",
       "      <td>1</td>\n",
       "      <td>3042</td>\n",
       "      <td>2240</td>\n",
       "      <td>2330</td>\n",
       "      <td>2423</td>\n",
       "      <td>2350</td>\n",
       "      <td>2374</td>\n",
       "      <td>2398</td>\n",
       "      <td>2278</td>\n",
       "      <td>2210</td>\n",
       "      <td>2232</td>\n",
       "      <td>...</td>\n",
       "      <td>7096</td>\n",
       "      <td>7025</td>\n",
       "      <td>6955</td>\n",
       "      <td>6746</td>\n",
       "      <td>6881</td>\n",
       "      <td>6606</td>\n",
       "      <td>6804</td>\n",
       "      <td>6872</td>\n",
       "      <td>6872</td>\n",
       "      <td>7078</td>\n",
       "    </tr>\n",
       "    <tr>\n",
       "      <td>2</td>\n",
       "      <td>3086</td>\n",
       "      <td>891</td>\n",
       "      <td>909</td>\n",
       "      <td>936</td>\n",
       "      <td>889</td>\n",
       "      <td>880</td>\n",
       "      <td>906</td>\n",
       "      <td>870</td>\n",
       "      <td>879</td>\n",
       "      <td>844</td>\n",
       "      <td>...</td>\n",
       "      <td>829</td>\n",
       "      <td>829</td>\n",
       "      <td>812</td>\n",
       "      <td>788</td>\n",
       "      <td>788</td>\n",
       "      <td>772</td>\n",
       "      <td>811</td>\n",
       "      <td>803</td>\n",
       "      <td>763</td>\n",
       "      <td>763</td>\n",
       "    </tr>\n",
       "    <tr>\n",
       "      <td>3</td>\n",
       "      <td>3155</td>\n",
       "      <td>1628</td>\n",
       "      <td>1628</td>\n",
       "      <td>1563</td>\n",
       "      <td>1532</td>\n",
       "      <td>1563</td>\n",
       "      <td>1563</td>\n",
       "      <td>1532</td>\n",
       "      <td>1593</td>\n",
       "      <td>1513</td>\n",
       "      <td>...</td>\n",
       "      <td>1719</td>\n",
       "      <td>1805</td>\n",
       "      <td>1895</td>\n",
       "      <td>1895</td>\n",
       "      <td>1990</td>\n",
       "      <td>2030</td>\n",
       "      <td>2050</td>\n",
       "      <td>2132</td>\n",
       "      <td>2111</td>\n",
       "      <td>2027</td>\n",
       "    </tr>\n",
       "    <tr>\n",
       "      <td>4</td>\n",
       "      <td>3166</td>\n",
       "      <td>369</td>\n",
       "      <td>354</td>\n",
       "      <td>343</td>\n",
       "      <td>340</td>\n",
       "      <td>330</td>\n",
       "      <td>337</td>\n",
       "      <td>350</td>\n",
       "      <td>343</td>\n",
       "      <td>340</td>\n",
       "      <td>...</td>\n",
       "      <td>335</td>\n",
       "      <td>328</td>\n",
       "      <td>325</td>\n",
       "      <td>319</td>\n",
       "      <td>316</td>\n",
       "      <td>319</td>\n",
       "      <td>329</td>\n",
       "      <td>336</td>\n",
       "      <td>349</td>\n",
       "      <td>352</td>\n",
       "    </tr>\n",
       "  </tbody>\n",
       "</table>\n",
       "<p>5 rows × 367 columns</p>\n",
       "</div>"
      ],
      "text/plain": [
       "    SKU  01-08-19  02-08-19  03-08-19  04-08-19  05-08-19  06-08-19  07-08-19  \\\n",
       "0  2527      1551      1613      1613      1532      1517      1441      1383   \n",
       "1  3042      2240      2330      2423      2350      2374      2398      2278   \n",
       "2  3086       891       909       936       889       880       906       870   \n",
       "3  3155      1628      1628      1563      1532      1563      1563      1532   \n",
       "4  3166       369       354       343       340       330       337       350   \n",
       "\n",
       "   08-08-19  09-08-19  ...  22-07-20  23-07-20  24-07-20  25-07-20  26-07-20  \\\n",
       "0      1424      1381  ...      1929      1948      1929      1987      2027   \n",
       "1      2210      2232  ...      7096      7025      6955      6746      6881   \n",
       "2       879       844  ...       829       829       812       788       788   \n",
       "3      1593      1513  ...      1719      1805      1895      1895      1990   \n",
       "4       343       340  ...       335       328       325       319       316   \n",
       "\n",
       "   27-07-20  28-07-20  29-07-20  30-07-20  31-07-20  \n",
       "0      1926      1926      1849      1904      1828  \n",
       "1      6606      6804      6872      6872      7078  \n",
       "2       772       811       803       763       763  \n",
       "3      2030      2050      2132      2111      2027  \n",
       "4       319       329       336       349       352  \n",
       "\n",
       "[5 rows x 367 columns]"
      ]
     },
     "execution_count": 58,
     "metadata": {},
     "output_type": "execute_result"
    }
   ],
   "source": [
    "df.head()"
   ]
  },
  {
   "cell_type": "code",
   "execution_count": 59,
   "metadata": {},
   "outputs": [
    {
     "data": {
      "text/plain": [
       "(247, 367)"
      ]
     },
     "execution_count": 59,
     "metadata": {},
     "output_type": "execute_result"
    }
   ],
   "source": [
    "df.shape\n"
   ]
  },
  {
   "cell_type": "markdown",
   "metadata": {},
   "source": [
    "### Finding Monthly Sales\n"
   ]
  },
  {
   "cell_type": "code",
   "execution_count": 67,
   "metadata": {},
   "outputs": [
    {
     "data": {
      "text/plain": [
       "(247, 383)"
      ]
     },
     "execution_count": 67,
     "metadata": {},
     "output_type": "execute_result"
    }
   ],
   "source": [
    "df['August_19']=df.loc[:,\"01-08-19\":\"31-08-19\"].sum(axis=1)\n",
    "df['September_19']=df.loc[:,\"01-09-19\":\"30-09-19\"].sum(axis=1)\n",
    "df['October_19']=df.loc[:,\"01-10-19\":\"31-10-19\"].sum(axis=1)\n",
    "df['November_19']=df.loc[:,\"01-11-19\":\"30-11-19\"].sum(axis=1)\n",
    "df['December_19']=df.loc[:,\"01-12-19\":\"31-12-19\"].sum(axis=1)\n",
    "df['January_20']=df.loc[:,\"01-01-20\":\"31-01-20\"].sum(axis=1)\n",
    "df['February_20']=df.loc[:,\"01-02-20\":\"29-02-20\"].sum(axis=1)\n",
    "df['March_20']=df.loc[:,\"01-03-20\":\"31-03-20\"].sum(axis=1)\n",
    "df['April_20']=df.loc[:,\"01-04-20\":\"30-04-20\"].sum(axis=1)\n",
    "df['May_20']=df.loc[:,\"01-05-20\":\"31-05-20\"].sum(axis=1)\n",
    "df['June_20']=df.loc[:,\"01-06-20\":\"30-06-20\"].sum(axis=1)\n",
    "df['July_20']=df.loc[:,\"01-07-20\":\"31-07-20\"].sum(axis=1)\n",
    "df.shape"
   ]
  },
  {
   "cell_type": "code",
   "execution_count": 64,
   "metadata": {},
   "outputs": [
    {
     "data": {
      "text/html": [
       "<div>\n",
       "<style scoped>\n",
       "    .dataframe tbody tr th:only-of-type {\n",
       "        vertical-align: middle;\n",
       "    }\n",
       "\n",
       "    .dataframe tbody tr th {\n",
       "        vertical-align: top;\n",
       "    }\n",
       "\n",
       "    .dataframe thead th {\n",
       "        text-align: right;\n",
       "    }\n",
       "</style>\n",
       "<table border=\"1\" class=\"dataframe\">\n",
       "  <thead>\n",
       "    <tr style=\"text-align: right;\">\n",
       "      <th></th>\n",
       "      <th>SKU</th>\n",
       "      <th>01-08-19</th>\n",
       "      <th>02-08-19</th>\n",
       "      <th>03-08-19</th>\n",
       "      <th>04-08-19</th>\n",
       "      <th>05-08-19</th>\n",
       "      <th>06-08-19</th>\n",
       "      <th>07-08-19</th>\n",
       "      <th>08-08-19</th>\n",
       "      <th>09-08-19</th>\n",
       "      <th>...</th>\n",
       "      <th>October_19</th>\n",
       "      <th>November_19</th>\n",
       "      <th>December_19</th>\n",
       "      <th>January_20</th>\n",
       "      <th>February_20</th>\n",
       "      <th>March_20</th>\n",
       "      <th>April_20</th>\n",
       "      <th>May_20</th>\n",
       "      <th>June_20</th>\n",
       "      <th>July_20</th>\n",
       "    </tr>\n",
       "  </thead>\n",
       "  <tbody>\n",
       "    <tr>\n",
       "      <td>0</td>\n",
       "      <td>2527</td>\n",
       "      <td>1551</td>\n",
       "      <td>1613</td>\n",
       "      <td>1613</td>\n",
       "      <td>1532</td>\n",
       "      <td>1517</td>\n",
       "      <td>1441</td>\n",
       "      <td>1383</td>\n",
       "      <td>1424</td>\n",
       "      <td>1381</td>\n",
       "      <td>...</td>\n",
       "      <td>30582</td>\n",
       "      <td>21916</td>\n",
       "      <td>23804</td>\n",
       "      <td>21853</td>\n",
       "      <td>23170</td>\n",
       "      <td>30956</td>\n",
       "      <td>38202</td>\n",
       "      <td>44347</td>\n",
       "      <td>49341</td>\n",
       "      <td>55826</td>\n",
       "    </tr>\n",
       "    <tr>\n",
       "      <td>1</td>\n",
       "      <td>3042</td>\n",
       "      <td>2240</td>\n",
       "      <td>2330</td>\n",
       "      <td>2423</td>\n",
       "      <td>2350</td>\n",
       "      <td>2374</td>\n",
       "      <td>2398</td>\n",
       "      <td>2278</td>\n",
       "      <td>2210</td>\n",
       "      <td>2232</td>\n",
       "      <td>...</td>\n",
       "      <td>71082</td>\n",
       "      <td>83246</td>\n",
       "      <td>87899</td>\n",
       "      <td>79546</td>\n",
       "      <td>78095</td>\n",
       "      <td>92606</td>\n",
       "      <td>120947</td>\n",
       "      <td>135342</td>\n",
       "      <td>157482</td>\n",
       "      <td>196062</td>\n",
       "    </tr>\n",
       "    <tr>\n",
       "      <td>2</td>\n",
       "      <td>3086</td>\n",
       "      <td>891</td>\n",
       "      <td>909</td>\n",
       "      <td>936</td>\n",
       "      <td>889</td>\n",
       "      <td>880</td>\n",
       "      <td>906</td>\n",
       "      <td>870</td>\n",
       "      <td>879</td>\n",
       "      <td>844</td>\n",
       "      <td>...</td>\n",
       "      <td>33122</td>\n",
       "      <td>28937</td>\n",
       "      <td>33444</td>\n",
       "      <td>35670</td>\n",
       "      <td>32029</td>\n",
       "      <td>30827</td>\n",
       "      <td>25062</td>\n",
       "      <td>22231</td>\n",
       "      <td>24184</td>\n",
       "      <td>26153</td>\n",
       "    </tr>\n",
       "    <tr>\n",
       "      <td>3</td>\n",
       "      <td>3155</td>\n",
       "      <td>1628</td>\n",
       "      <td>1628</td>\n",
       "      <td>1563</td>\n",
       "      <td>1532</td>\n",
       "      <td>1563</td>\n",
       "      <td>1563</td>\n",
       "      <td>1532</td>\n",
       "      <td>1593</td>\n",
       "      <td>1513</td>\n",
       "      <td>...</td>\n",
       "      <td>45421</td>\n",
       "      <td>55371</td>\n",
       "      <td>72253</td>\n",
       "      <td>75218</td>\n",
       "      <td>61235</td>\n",
       "      <td>72241</td>\n",
       "      <td>67543</td>\n",
       "      <td>57518</td>\n",
       "      <td>53480</td>\n",
       "      <td>54253</td>\n",
       "    </tr>\n",
       "    <tr>\n",
       "      <td>4</td>\n",
       "      <td>3166</td>\n",
       "      <td>369</td>\n",
       "      <td>354</td>\n",
       "      <td>343</td>\n",
       "      <td>340</td>\n",
       "      <td>330</td>\n",
       "      <td>337</td>\n",
       "      <td>350</td>\n",
       "      <td>343</td>\n",
       "      <td>340</td>\n",
       "      <td>...</td>\n",
       "      <td>11966</td>\n",
       "      <td>13094</td>\n",
       "      <td>13848</td>\n",
       "      <td>13990</td>\n",
       "      <td>10517</td>\n",
       "      <td>9587</td>\n",
       "      <td>12110</td>\n",
       "      <td>9838</td>\n",
       "      <td>9076</td>\n",
       "      <td>10182</td>\n",
       "    </tr>\n",
       "  </tbody>\n",
       "</table>\n",
       "<p>5 rows × 379 columns</p>\n",
       "</div>"
      ],
      "text/plain": [
       "    SKU  01-08-19  02-08-19  03-08-19  04-08-19  05-08-19  06-08-19  07-08-19  \\\n",
       "0  2527      1551      1613      1613      1532      1517      1441      1383   \n",
       "1  3042      2240      2330      2423      2350      2374      2398      2278   \n",
       "2  3086       891       909       936       889       880       906       870   \n",
       "3  3155      1628      1628      1563      1532      1563      1563      1532   \n",
       "4  3166       369       354       343       340       330       337       350   \n",
       "\n",
       "   08-08-19  09-08-19  ...  October_19  November_19  December_19  January_20  \\\n",
       "0      1424      1381  ...       30582        21916        23804       21853   \n",
       "1      2210      2232  ...       71082        83246        87899       79546   \n",
       "2       879       844  ...       33122        28937        33444       35670   \n",
       "3      1593      1513  ...       45421        55371        72253       75218   \n",
       "4       343       340  ...       11966        13094        13848       13990   \n",
       "\n",
       "   February_20  March_20  April_20  May_20  June_20  July_20  \n",
       "0        23170     30956     38202   44347    49341    55826  \n",
       "1        78095     92606    120947  135342   157482   196062  \n",
       "2        32029     30827     25062   22231    24184    26153  \n",
       "3        61235     72241     67543   57518    53480    54253  \n",
       "4        10517      9587     12110    9838     9076    10182  \n",
       "\n",
       "[5 rows x 379 columns]"
      ]
     },
     "execution_count": 64,
     "metadata": {},
     "output_type": "execute_result"
    }
   ],
   "source": [
    "df.head()\n"
   ]
  },
  {
   "cell_type": "markdown",
   "metadata": {},
   "source": [
    "### Finding Quarterly Sales"
   ]
  },
  {
   "cell_type": "code",
   "execution_count": 65,
   "metadata": {},
   "outputs": [],
   "source": [
    "df[\"Q1\"]=df.loc[:,\"August_19\":\"October_19\"].sum(axis=1)\n",
    "df[\"Q2\"]=df.loc[:,\"November_19\":\"January_20\"].sum(axis=1)\n",
    "df[\"Q3\"]=df.loc[:,\"February_20\":\"April_20\"].sum(axis=1)\n",
    "df[\"Q4\"]=df.loc[:,\"May_20\":\"July_20\"].sum(axis=1)\n"
   ]
  },
  {
   "cell_type": "code",
   "execution_count": null,
   "metadata": {},
   "outputs": [],
   "source": [
    "df.head()"
   ]
  },
  {
   "cell_type": "code",
   "execution_count": 66,
   "metadata": {},
   "outputs": [
    {
     "data": {
      "text/plain": [
       "(247, 17)"
      ]
     },
     "execution_count": 66,
     "metadata": {},
     "output_type": "execute_result"
    }
   ],
   "source": [
    "df1=df.iloc[:, np.r_[0,367:383]]\n",
    "df1.to_excel('Assignment2_output.xlsx')\n"
   ]
  },
  {
   "cell_type": "markdown",
   "metadata": {},
   "source": [
    "### Finding Top 3 Months"
   ]
  },
  {
   "cell_type": "code",
   "execution_count": 10,
   "metadata": {},
   "outputs": [
    {
     "name": "stdout",
     "output_type": "stream",
     "text": [
      "['August_19', 'September_19', 'October_19', 'November_19', 'December_19', 'January_20', 'February_20', 'March_20', 'April_20', 'May_20', 'June_20', 'July_20']\n"
     ]
    }
   ],
   "source": [
    "month_list=list(df.columns[367:-4])\n",
    "print(month_list)"
   ]
  },
  {
   "cell_type": "code",
   "execution_count": 11,
   "metadata": {},
   "outputs": [
    {
     "name": "stdout",
     "output_type": "stream",
     "text": [
      "{'August_19': 16590204, 'September_19': 17309331, 'October_19': 18300108, 'November_19': 17954015, 'December_19': 19536270, 'January_20': 19170099, 'February_20': 17973457, 'March_20': 20234570, 'April_20': 19103472, 'May_20': 18555947, 'June_20': 18303531, 'July_20': 18795771}\n"
     ]
    }
   ],
   "source": [
    "sales_list=[]\n",
    "for element in month_list:\n",
    "    month_sum=df[element].sum(axis=0)\n",
    "    #print(month_sum)\n",
    "    sales_list.append(month_sum)\n",
    "    \n",
    "sales_by_month=dict(zip(month_list,sales_list))\n",
    "print(sales_by_month)\n",
    "    "
   ]
  },
  {
   "cell_type": "code",
   "execution_count": 12,
   "metadata": {},
   "outputs": [
    {
     "name": "stdout",
     "output_type": "stream",
     "text": [
      "[('March_20', 20234570), ('December_19', 19536270), ('January_20', 19170099)]\n"
     ]
    }
   ],
   "source": [
    "top_3_months= sorted(sales_by_month.items(), key=lambda x: x[1],reverse=True)[0:3]\n",
    "print(top_3_months)\n"
   ]
  },
  {
   "cell_type": "markdown",
   "metadata": {},
   "source": [
    "### Finding Outliers"
   ]
  },
  {
   "cell_type": "markdown",
   "metadata": {},
   "source": []
  },
  {
   "cell_type": "code",
   "execution_count": 13,
   "metadata": {},
   "outputs": [
    {
     "data": {
      "text/plain": [
       "<matplotlib.axes._subplots.AxesSubplot at 0x24ca8b06148>"
      ]
     },
     "execution_count": 13,
     "metadata": {},
     "output_type": "execute_result"
    },
    {
     "data": {
      "image/png": "[encoded data removed]",
      "text/plain": [
       "<Figure size 1440x720 with 1 Axes>"
      ]
     },
     "metadata": {
      "needs_background": "light"
     },
     "output_type": "display_data"
    }
   ],
   "source": [
    "plt.figure(figsize=(20,10))\n",
    "df1.boxplot(column=month_list)"
   ]
  },
  {
   "cell_type": "code",
   "execution_count": 14,
   "metadata": {
    "scrolled": false
   },
   "outputs": [
    {
     "data": {
      "text/html": [
       "<div>\n",
       "<style scoped>\n",
       "    .dataframe tbody tr th:only-of-type {\n",
       "        vertical-align: middle;\n",
       "    }\n",
       "\n",
       "    .dataframe tbody tr th {\n",
       "        vertical-align: top;\n",
       "    }\n",
       "\n",
       "    .dataframe thead th {\n",
       "        text-align: right;\n",
       "    }\n",
       "</style>\n",
       "<table border=\"1\" class=\"dataframe\">\n",
       "  <thead>\n",
       "    <tr style=\"text-align: right;\">\n",
       "      <th></th>\n",
       "      <th>August_19</th>\n",
       "      <th>September_19</th>\n",
       "      <th>October_19</th>\n",
       "      <th>November_19</th>\n",
       "      <th>December_19</th>\n",
       "      <th>January_20</th>\n",
       "      <th>February_20</th>\n",
       "      <th>March_20</th>\n",
       "      <th>April_20</th>\n",
       "      <th>May_20</th>\n",
       "      <th>June_20</th>\n",
       "      <th>July_20</th>\n",
       "      <th>Q1</th>\n",
       "      <th>Q2</th>\n",
       "      <th>Q3</th>\n",
       "      <th>Q4</th>\n",
       "    </tr>\n",
       "  </thead>\n",
       "  <tbody>\n",
       "    <tr>\n",
       "      <td>count</td>\n",
       "      <td>2.470000e+02</td>\n",
       "      <td>2.470000e+02</td>\n",
       "      <td>2.470000e+02</td>\n",
       "      <td>2.470000e+02</td>\n",
       "      <td>2.470000e+02</td>\n",
       "      <td>2.470000e+02</td>\n",
       "      <td>2.470000e+02</td>\n",
       "      <td>2.470000e+02</td>\n",
       "      <td>2.470000e+02</td>\n",
       "      <td>2.470000e+02</td>\n",
       "      <td>2.470000e+02</td>\n",
       "      <td>2.470000e+02</td>\n",
       "      <td>2.470000e+02</td>\n",
       "      <td>2.470000e+02</td>\n",
       "      <td>2.470000e+02</td>\n",
       "      <td>2.470000e+02</td>\n",
       "    </tr>\n",
       "    <tr>\n",
       "      <td>mean</td>\n",
       "      <td>6.716682e+04</td>\n",
       "      <td>7.007826e+04</td>\n",
       "      <td>7.408951e+04</td>\n",
       "      <td>7.268832e+04</td>\n",
       "      <td>7.909421e+04</td>\n",
       "      <td>7.761174e+04</td>\n",
       "      <td>7.276703e+04</td>\n",
       "      <td>8.192134e+04</td>\n",
       "      <td>7.734199e+04</td>\n",
       "      <td>7.512529e+04</td>\n",
       "      <td>7.410336e+04</td>\n",
       "      <td>7.609624e+04</td>\n",
       "      <td>2.113346e+05</td>\n",
       "      <td>2.293943e+05</td>\n",
       "      <td>2.320304e+05</td>\n",
       "      <td>2.253249e+05</td>\n",
       "    </tr>\n",
       "    <tr>\n",
       "      <td>std</td>\n",
       "      <td>2.235068e+05</td>\n",
       "      <td>2.575223e+05</td>\n",
       "      <td>2.944270e+05</td>\n",
       "      <td>2.862228e+05</td>\n",
       "      <td>3.348857e+05</td>\n",
       "      <td>3.378473e+05</td>\n",
       "      <td>3.437153e+05</td>\n",
       "      <td>4.128300e+05</td>\n",
       "      <td>3.437310e+05</td>\n",
       "      <td>3.060092e+05</td>\n",
       "      <td>2.961998e+05</td>\n",
       "      <td>3.030392e+05</td>\n",
       "      <td>7.729885e+05</td>\n",
       "      <td>9.561162e+05</td>\n",
       "      <td>1.095494e+06</td>\n",
       "      <td>9.035129e+05</td>\n",
       "    </tr>\n",
       "    <tr>\n",
       "      <td>min</td>\n",
       "      <td>3.100000e+01</td>\n",
       "      <td>3.000000e+01</td>\n",
       "      <td>3.100000e+01</td>\n",
       "      <td>3.000000e+01</td>\n",
       "      <td>3.100000e+01</td>\n",
       "      <td>3.100000e+01</td>\n",
       "      <td>2.900000e+01</td>\n",
       "      <td>3.100000e+01</td>\n",
       "      <td>3.000000e+01</td>\n",
       "      <td>3.100000e+01</td>\n",
       "      <td>3.000000e+01</td>\n",
       "      <td>3.100000e+01</td>\n",
       "      <td>9.200000e+01</td>\n",
       "      <td>9.200000e+01</td>\n",
       "      <td>9.000000e+01</td>\n",
       "      <td>9.200000e+01</td>\n",
       "    </tr>\n",
       "    <tr>\n",
       "      <td>5%</td>\n",
       "      <td>6.200000e+01</td>\n",
       "      <td>6.000000e+01</td>\n",
       "      <td>6.200000e+01</td>\n",
       "      <td>6.000000e+01</td>\n",
       "      <td>6.200000e+01</td>\n",
       "      <td>6.200000e+01</td>\n",
       "      <td>5.800000e+01</td>\n",
       "      <td>6.200000e+01</td>\n",
       "      <td>6.000000e+01</td>\n",
       "      <td>6.200000e+01</td>\n",
       "      <td>6.000000e+01</td>\n",
       "      <td>6.200000e+01</td>\n",
       "      <td>1.840000e+02</td>\n",
       "      <td>1.840000e+02</td>\n",
       "      <td>1.800000e+02</td>\n",
       "      <td>1.840000e+02</td>\n",
       "    </tr>\n",
       "    <tr>\n",
       "      <td>25%</td>\n",
       "      <td>5.840000e+02</td>\n",
       "      <td>5.835000e+02</td>\n",
       "      <td>6.305000e+02</td>\n",
       "      <td>6.125000e+02</td>\n",
       "      <td>5.870000e+02</td>\n",
       "      <td>6.485000e+02</td>\n",
       "      <td>6.460000e+02</td>\n",
       "      <td>7.265000e+02</td>\n",
       "      <td>6.705000e+02</td>\n",
       "      <td>7.245000e+02</td>\n",
       "      <td>6.810000e+02</td>\n",
       "      <td>7.080000e+02</td>\n",
       "      <td>1.837000e+03</td>\n",
       "      <td>1.783500e+03</td>\n",
       "      <td>2.041000e+03</td>\n",
       "      <td>2.240000e+03</td>\n",
       "    </tr>\n",
       "    <tr>\n",
       "      <td>50%</td>\n",
       "      <td>3.885000e+03</td>\n",
       "      <td>3.482000e+03</td>\n",
       "      <td>3.768000e+03</td>\n",
       "      <td>3.550000e+03</td>\n",
       "      <td>3.494000e+03</td>\n",
       "      <td>3.499000e+03</td>\n",
       "      <td>3.093000e+03</td>\n",
       "      <td>3.320000e+03</td>\n",
       "      <td>3.104000e+03</td>\n",
       "      <td>2.985000e+03</td>\n",
       "      <td>2.860000e+03</td>\n",
       "      <td>2.756000e+03</td>\n",
       "      <td>1.098800e+04</td>\n",
       "      <td>1.029900e+04</td>\n",
       "      <td>9.556000e+03</td>\n",
       "      <td>8.238000e+03</td>\n",
       "    </tr>\n",
       "    <tr>\n",
       "      <td>75%</td>\n",
       "      <td>4.162950e+04</td>\n",
       "      <td>4.025250e+04</td>\n",
       "      <td>4.104250e+04</td>\n",
       "      <td>4.180400e+04</td>\n",
       "      <td>4.614350e+04</td>\n",
       "      <td>4.526750e+04</td>\n",
       "      <td>3.839300e+04</td>\n",
       "      <td>3.958350e+04</td>\n",
       "      <td>3.925400e+04</td>\n",
       "      <td>3.872700e+04</td>\n",
       "      <td>3.832650e+04</td>\n",
       "      <td>4.025600e+04</td>\n",
       "      <td>1.257310e+05</td>\n",
       "      <td>1.277930e+05</td>\n",
       "      <td>1.181720e+05</td>\n",
       "      <td>1.198375e+05</td>\n",
       "    </tr>\n",
       "    <tr>\n",
       "      <td>95%</td>\n",
       "      <td>2.804931e+05</td>\n",
       "      <td>2.506420e+05</td>\n",
       "      <td>2.943708e+05</td>\n",
       "      <td>2.990598e+05</td>\n",
       "      <td>2.975203e+05</td>\n",
       "      <td>3.218203e+05</td>\n",
       "      <td>2.868330e+05</td>\n",
       "      <td>2.939191e+05</td>\n",
       "      <td>3.164045e+05</td>\n",
       "      <td>2.825457e+05</td>\n",
       "      <td>2.479078e+05</td>\n",
       "      <td>2.623684e+05</td>\n",
       "      <td>7.975785e+05</td>\n",
       "      <td>9.054428e+05</td>\n",
       "      <td>8.902036e+05</td>\n",
       "      <td>8.144733e+05</td>\n",
       "    </tr>\n",
       "    <tr>\n",
       "      <td>max</td>\n",
       "      <td>2.777157e+06</td>\n",
       "      <td>3.361132e+06</td>\n",
       "      <td>3.966541e+06</td>\n",
       "      <td>3.793029e+06</td>\n",
       "      <td>4.683580e+06</td>\n",
       "      <td>4.810524e+06</td>\n",
       "      <td>5.022127e+06</td>\n",
       "      <td>6.041703e+06</td>\n",
       "      <td>4.682819e+06</td>\n",
       "      <td>3.795832e+06</td>\n",
       "      <td>3.548522e+06</td>\n",
       "      <td>3.620162e+06</td>\n",
       "      <td>1.010483e+07</td>\n",
       "      <td>1.328713e+07</td>\n",
       "      <td>1.574665e+07</td>\n",
       "      <td>1.096452e+07</td>\n",
       "    </tr>\n",
       "  </tbody>\n",
       "</table>\n",
       "</div>"
      ],
      "text/plain": [
       "          August_19  September_19    October_19   November_19   December_19  \\\n",
       "count  2.470000e+02  2.470000e+02  2.470000e+02  2.470000e+02  2.470000e+02   \n",
       "mean   6.716682e+04  7.007826e+04  7.408951e+04  7.268832e+04  7.909421e+04   \n",
       "std    2.235068e+05  2.575223e+05  2.944270e+05  2.862228e+05  3.348857e+05   \n",
       "min    3.100000e+01  3.000000e+01  3.100000e+01  3.000000e+01  3.100000e+01   \n",
       "5%     6.200000e+01  6.000000e+01  6.200000e+01  6.000000e+01  6.200000e+01   \n",
       "25%    5.840000e+02  5.835000e+02  6.305000e+02  6.125000e+02  5.870000e+02   \n",
       "50%    3.885000e+03  3.482000e+03  3.768000e+03  3.550000e+03  3.494000e+03   \n",
       "75%    4.162950e+04  4.025250e+04  4.104250e+04  4.180400e+04  4.614350e+04   \n",
       "95%    2.804931e+05  2.506420e+05  2.943708e+05  2.990598e+05  2.975203e+05   \n",
       "max    2.777157e+06  3.361132e+06  3.966541e+06  3.793029e+06  4.683580e+06   \n",
       "\n",
       "         January_20   February_20      March_20      April_20        May_20  \\\n",
       "count  2.470000e+02  2.470000e+02  2.470000e+02  2.470000e+02  2.470000e+02   \n",
       "mean   7.761174e+04  7.276703e+04  8.192134e+04  7.734199e+04  7.512529e+04   \n",
       "std    3.378473e+05  3.437153e+05  4.128300e+05  3.437310e+05  3.060092e+05   \n",
       "min    3.100000e+01  2.900000e+01  3.100000e+01  3.000000e+01  3.100000e+01   \n",
       "5%     6.200000e+01  5.800000e+01  6.200000e+01  6.000000e+01  6.200000e+01   \n",
       "25%    6.485000e+02  6.460000e+02  7.265000e+02  6.705000e+02  7.245000e+02   \n",
       "50%    3.499000e+03  3.093000e+03  3.320000e+03  3.104000e+03  2.985000e+03   \n",
       "75%    4.526750e+04  3.839300e+04  3.958350e+04  3.925400e+04  3.872700e+04   \n",
       "95%    3.218203e+05  2.868330e+05  2.939191e+05  3.164045e+05  2.825457e+05   \n",
       "max    4.810524e+06  5.022127e+06  6.041703e+06  4.682819e+06  3.795832e+06   \n",
       "\n",
       "            June_20       July_20            Q1            Q2            Q3  \\\n",
       "count  2.470000e+02  2.470000e+02  2.470000e+02  2.470000e+02  2.470000e+02   \n",
       "mean   7.410336e+04  7.609624e+04  2.113346e+05  2.293943e+05  2.320304e+05   \n",
       "std    2.961998e+05  3.030392e+05  7.729885e+05  9.561162e+05  1.095494e+06   \n",
       "min    3.000000e+01  3.100000e+01  9.200000e+01  9.200000e+01  9.000000e+01   \n",
       "5%     6.000000e+01  6.200000e+01  1.840000e+02  1.840000e+02  1.800000e+02   \n",
       "25%    6.810000e+02  7.080000e+02  1.837000e+03  1.783500e+03  2.041000e+03   \n",
       "50%    2.860000e+03  2.756000e+03  1.098800e+04  1.029900e+04  9.556000e+03   \n",
       "75%    3.832650e+04  4.025600e+04  1.257310e+05  1.277930e+05  1.181720e+05   \n",
       "95%    2.479078e+05  2.623684e+05  7.975785e+05  9.054428e+05  8.902036e+05   \n",
       "max    3.548522e+06  3.620162e+06  1.010483e+07  1.328713e+07  1.574665e+07   \n",
       "\n",
       "                 Q4  \n",
       "count  2.470000e+02  \n",
       "mean   2.253249e+05  \n",
       "std    9.035129e+05  \n",
       "min    9.200000e+01  \n",
       "5%     1.840000e+02  \n",
       "25%    2.240000e+03  \n",
       "50%    8.238000e+03  \n",
       "75%    1.198375e+05  \n",
       "95%    8.144733e+05  \n",
       "max    1.096452e+07  "
      ]
     },
     "execution_count": 14,
     "metadata": {},
     "output_type": "execute_result"
    }
   ],
   "source": [
    "df1.describe(percentiles=[.05,.25,.50,.75,.95])"
   ]
  },
  {
   "cell_type": "code",
   "execution_count": 70,
   "metadata": {},
   "outputs": [
    {
     "data": {
      "text/plain": [
       "<bound method NDFrame.head of            August_19  September_19  October_19  November_19  December_19  \\\n",
       "SKU                                                                        \n",
       "2527           41702         36880       30582        21916        23804   \n",
       "3042           69451         62415       71082        83246        87899   \n",
       "3086           27412         31687       33122        28937        33444   \n",
       "3155           46443         41922       45421        55371        72253   \n",
       "3166           10720         10306       11966        13094        13848   \n",
       "...              ...           ...         ...          ...          ...   \n",
       "PPAM11156         62            60          62           60           62   \n",
       "PSTM01257        682           772         779          715          715   \n",
       "PSTM01457        323           305         357          308          319   \n",
       "WIM5011B        2886          2447        1954         2035         1855   \n",
       "WIM51234          62            60          62           60           62   \n",
       "\n",
       "           January_20  February_20  March_20  April_20  May_20  June_20  \\\n",
       "SKU                                                                       \n",
       "2527            21853        23170     30956     38202   44347    49341   \n",
       "3042            79546        78095     92606    120947  135342   157482   \n",
       "3086            35670        32029     30827     25062   22231    24184   \n",
       "3155            75218        61235     72241     67543   57518    53480   \n",
       "3166            13990        10517      9587     12110    9838     9076   \n",
       "...               ...          ...       ...       ...     ...      ...   \n",
       "PPAM11156          62           58        62        60      62       60   \n",
       "PSTM01257         742          803       725       704     797      796   \n",
       "PSTM01457         311          295       320       349     390      342   \n",
       "WIM5011B         1567         1430      1458       984     904      766   \n",
       "WIM51234           62           58        62        60      62       60   \n",
       "\n",
       "           July_20      Q1      Q2      Q3      Q4  \n",
       "SKU                                                 \n",
       "2527         55826  109164   67573   92328  149514  \n",
       "3042        196062  202948  250691  291648  488886  \n",
       "3086         26153   92221   98051   87918   72568  \n",
       "3155         54253  133786  202842  201019  165251  \n",
       "3166         10182   32992   40932   32214   29096  \n",
       "...            ...     ...     ...     ...     ...  \n",
       "PPAM11156       62     184     184     180     184  \n",
       "PSTM01257      698    2233    2172    2232    2291  \n",
       "PSTM01457      444     985     938     964    1176  \n",
       "WIM5011B       816    7287    5457    3872    2486  \n",
       "WIM51234        62     184     184     180     184  \n",
       "\n",
       "[247 rows x 16 columns]>"
      ]
     },
     "execution_count": 70,
     "metadata": {},
     "output_type": "execute_result"
    }
   ],
   "source": [
    "df1.set_index('SKU',inplace=True)\n",
    "df1.head"
   ]
  },
  {
   "cell_type": "code",
   "execution_count": 71,
   "metadata": {},
   "outputs": [
    {
     "name": "stdout",
     "output_type": "stream",
     "text": [
      "['14119', '21011', '30373', '38058', '38194', '38320', '38538', '47101', '65001', '65007', '65202', '65205', '65503', '98201', '98220', '98222']\n"
     ]
    }
   ],
   "source": [
    "\n",
    "sku_list1= df1.query(\" August_19 < 6.200000e+01 or August_19 > 2.804931e+05 \").index.tolist() \n",
    "print(sku_list1)"
   ]
  },
  {
   "cell_type": "code",
   "execution_count": 72,
   "metadata": {},
   "outputs": [
    {
     "name": "stdout",
     "output_type": "stream",
     "text": [
      "['14119', '21011', '30373', '38058', '38194', '38320', '38538', '47101', '65001', '65007', '65202', '65205', '65503', '98201', '98220', '98222']\n"
     ]
    }
   ],
   "source": [
    "sku_list2= df1.query(\" September_19 < 6.000000e+01 or September_19 > 2.506420e+05 \").index.tolist() \n",
    "print(sku_list2)"
   ]
  },
  {
   "cell_type": "code",
   "execution_count": 73,
   "metadata": {},
   "outputs": [
    {
     "name": "stdout",
     "output_type": "stream",
     "text": [
      "['14119', '21011', '38058', '38194', '38320', '38538', '47101', '65001', '65007', '65202', '65205', '65503', '98201', '98220', '98222', 'PBUM01077']\n"
     ]
    }
   ],
   "source": [
    "sku_list3= df1.query(\" October_19 < 6.200000e+01 or October_19 > 2.943708e+05 \").index.tolist() \n",
    "print(sku_list3)"
   ]
  },
  {
   "cell_type": "code",
   "execution_count": 74,
   "metadata": {},
   "outputs": [
    {
     "name": "stdout",
     "output_type": "stream",
     "text": [
      "['14119', '21011', '30373', '38058', '38194', '38320', '38538', '47101', '65001', '65007', '65202', '65503', '98201', '98220', '98222', 'PBUM01077']\n"
     ]
    }
   ],
   "source": [
    "sku_list4= df1.query(\"November_19 < 6.000000e+01 or November_19 > 2.990598e+05 \").index.tolist() \n",
    "print(sku_list4)"
   ]
  },
  {
   "cell_type": "code",
   "execution_count": 75,
   "metadata": {},
   "outputs": [
    {
     "name": "stdout",
     "output_type": "stream",
     "text": [
      "['14119', '21011', '38058', '38194', '38320', '38538', '47101', '65001', '65007', '65202', '65205', '65503', '98201', '98220', '98222', 'PBUM01077']\n"
     ]
    }
   ],
   "source": [
    "sku_list5= df1.query(\" December_19 < 6.200000e+01 or December_19 > 2.975203e+05 \").index.tolist() \n",
    "print(sku_list5)"
   ]
  },
  {
   "cell_type": "code",
   "execution_count": 76,
   "metadata": {},
   "outputs": [
    {
     "name": "stdout",
     "output_type": "stream",
     "text": [
      "['14119', '21011', '38058', '38194', '38320', '38538', '47101', '65001', '65007', '65202', '65205', '65503', '98201', '98220', '98222', 'PBUM01077']\n"
     ]
    }
   ],
   "source": [
    "sku_list6= df1.query(\" January_20 < 6.200000e+01 or January_20 > 3.218203e+05 \").index.tolist() \n",
    "print(sku_list6)"
   ]
  },
  {
   "cell_type": "code",
   "execution_count": 77,
   "metadata": {},
   "outputs": [
    {
     "name": "stdout",
     "output_type": "stream",
     "text": [
      "['14119', '21011', '38058', '38194', '38320', '38538', '47101', '65001', '65007', '65202', '65205', '65503', '98201', '98220', '98222', 'PBUM01077']\n"
     ]
    }
   ],
   "source": [
    "sku_list7= df1.query(\" February_20 < 5.800000e+01 or February_20 > 2.868330e+05 \").index.tolist() \n",
    "print(sku_list7)"
   ]
  },
  {
   "cell_type": "code",
   "execution_count": 80,
   "metadata": {},
   "outputs": [
    {
     "name": "stdout",
     "output_type": "stream",
     "text": [
      "['14119', '21011', '30373', '38058', '38194', '38320', '38538', '47101', '51373', '65001', '65202', '65205', '98201', '98220', '98222', 'PBUM01077']\n"
     ]
    }
   ],
   "source": [
    "sku_list8= df1.query(\" March_20 < 6.200000e+01 or March_20 > 2.939191e+05 \").index.tolist() \n",
    "print(sku_list8)"
   ]
  },
  {
   "cell_type": "code",
   "execution_count": 81,
   "metadata": {},
   "outputs": [
    {
     "name": "stdout",
     "output_type": "stream",
     "text": [
      "['14119', '21011', '30373', '38058', '38194', '38320', '38538', '47101', '51373', '65001', '65202', '65205', '65906', '98201', '98220', '98222']\n"
     ]
    }
   ],
   "source": [
    "sku_list9= df1.query(\" April_20 < 6.000000e+01 or April_20 > 3.164045e+05 \").index.tolist() \n",
    "print(sku_list9)"
   ]
  },
  {
   "cell_type": "code",
   "execution_count": 82,
   "metadata": {},
   "outputs": [
    {
     "name": "stdout",
     "output_type": "stream",
     "text": [
      "['14119', '14121', '21011', '38058', '38194', '38320', '38538', '47101', '51373', '65001', '65202', '65205', '65906', '98201', '98220', '98222']\n"
     ]
    }
   ],
   "source": [
    "sku_list10= df1.query(\" May_20 < 6.200000e+01 or May_20 > 2.825457e+05 \").index.tolist() \n",
    "print(sku_list10)"
   ]
  },
  {
   "cell_type": "code",
   "execution_count": 83,
   "metadata": {},
   "outputs": [
    {
     "name": "stdout",
     "output_type": "stream",
     "text": [
      "['14119', '14121', '21011', '38058', '38194', '38320', '38538', '47101', '51373', '65001', '65202', '65503', '65906', '98201', '98220', '98222']\n"
     ]
    }
   ],
   "source": [
    "sku_list11= df1.query(\" June_20 < 6.000000e+01 or June_20 > 2.479078e+05 \").index.tolist() \n",
    "print(sku_list11)"
   ]
  },
  {
   "cell_type": "code",
   "execution_count": 84,
   "metadata": {},
   "outputs": [
    {
     "name": "stdout",
     "output_type": "stream",
     "text": [
      "['14119', '14121', '21011', '38058', '38194', '38320', '38538', '47101', '51373', '65001', '65202', '65503', '65906', '98201', '98220', '98222']\n"
     ]
    }
   ],
   "source": [
    "sku_list12= df1.query(\" July_20 < 6.200000e+01 or July_20 > 2.623684e+05 \").index.tolist() \n",
    "print(sku_list12)"
   ]
  },
  {
   "cell_type": "code",
   "execution_count": null,
   "metadata": {},
   "outputs": [],
   "source": []
  }
 ],
 "metadata": {
  "kernelspec": {
   "display_name": "Python 3",
   "language": "python",
   "name": "python3"
  },
  "language_info": {
   "codemirror_mode": {
    "name": "ipython",
    "version": 3
   },
   "file_extension": ".py",
   "mimetype": "text/x-python",
   "name": "python",
   "nbconvert_exporter": "python",
   "pygments_lexer": "ipython3",
   "version": "3.7.4"
  }
 },
 "nbformat": 4,
 "nbformat_minor": 2
}
